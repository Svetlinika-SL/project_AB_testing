{
 "cells": [
  {
   "cell_type": "markdown",
   "metadata": {},
   "source": [
    "# Принятие решений в бизнесе - проект Яндекс Практикум"
   ]
  },
  {
   "cell_type": "markdown",
   "metadata": {},
   "source": [
    "<h1>Описание проекта</h1> \n",
    "\n",
    "\n",
    "<div style=\"border:solid lightgreen 2px; padding: 20px\">\n",
    "   \n",
    "Вы — аналитик крупного интернет-магазина. Вместе с отделом маркетинга вы подготовили список гипотез для увеличения выручки.\n",
    "Приоритизируйте гипотезы, запустите A/B-тест и проанализируйте результаты.  \n",
    "   \n",
    "</div>"
   ]
  },
  {
   "cell_type": "markdown",
   "metadata": {},
   "source": [
    "<div style=\"border:solid darkblue 2px; padding: 20px\">\n",
    "\n",
    "<h1>План выполнения проекта:</h1>  \n",
    "      \n",
    "**Часть 1. Приоритизация гипотез.**  \n",
    "      \n",
    "В файле hypothesis.csv - 9 гипотез по увеличению выручки интернет-магазина с указанными параметрами Reach, Impact, Confidence, Effort.\n",
    "      \n",
    "**Задача:**  \n",
    "* Применим фреймворк ICE для приоритизации гипотез. Отсортируем их по убыванию приоритета.  \n",
    "* Применим фреймворк RICE для приоритизации гипотез. Отсортируем их по убыванию приоритета.  \n",
    "* Укажем, как изменилась приоритизация гипотез при применении RICE вместо ICE. Сделаем выводы.\n",
    "  \n",
    "**Часть 2. Анализ A/B-теста.**    \n",
    "      \n",
    "Провели A/B-тест и получили результаты, которые описаны в файлах orders.csv и visitors.csv.  \n",
    "    \n",
    "**Задача:**  \n",
    "      \n",
    "Проанализируйте A/B-тест:  \n",
    "      \n",
    "* Построим график кумулятивной выручки по группам. Сделаем выводы и предположения.  \n",
    "* Построим график кумулятивного среднего чека по группам. Сделаем выводы и предположения.  \n",
    "* Построим график относительного изменения кумулятивного среднего чека группы B к группе A. Сделаем выводы и предположения.  \n",
    "* Построим график кумулятивного среднего количества заказов по группам. Сделаем выводы и предположения.  \n",
    "* Построим график относительного изменения кумулятивного среднего количества заказов группы B к группе A. Сделаем выводы и предположения.  \n",
    "* Построим точечный график количества заказов по пользователям. Сделаем выводы и предположения.  \n",
    "* Посчитаем 95-й и 99-й перцентили количества заказов на пользователя. Выберем границу для определения аномальных пользователей. \n",
    "* Построим точечный график стоимостей заказов. Сделаем выводы и предположения.  \n",
    "* Посчитаем 95-й и 99-й перцентили стоимости заказов. Выберем границу для определения аномальных заказов.  \n",
    "* Посчитаем статистическую значимость различий в среднем количестве заказов между группами по «сырым» данным. Сделаем выводы и предположения.  \n",
    "* Посчитаем статистическую значимость различий в среднем чеке заказа между группами по «сырым» данным. Сделаем выводы и предположения.  \n",
    "* Посчитаем статистическую значимость различий в среднем количестве заказов между группами по «очищенным» данным. Сделаем выводы и предположения.  \n",
    "* Посчитаем статистическую значимость различий в среднем чеке заказа между группами по «очищенным» данным. Сделаем выводы и предположения.  \n",
    "* Примим решение по результатам теста и объясним его.  \n",
    "      \n",
    "**Варианты решений:**  \n",
    "      \n",
    "1. Остановить тест, зафиксировать победу одной из групп.   \n",
    "2. Остановить тест, зафиксировать отсутствие различий между группами.   \n",
    "3. Продолжить тест.  \n",
    "    \n",
    "</div>"
   ]
  },
  {
   "cell_type": "markdown",
   "metadata": {},
   "source": [
    "<div style=\"border:solid purple 2px; padding: 20px\">\n",
    "      \n",
    "<h1>Описание данных</h1> \n",
    "      \n",
    "**Данные для первой части:**  \n",
    "      \n",
    "Файл hypothesis.csv  \n",
    "    \n",
    "*Hypothesis* — краткое описание гипотезы;  \n",
    "*Reach* — охват пользователей по 10-балльной шкале;  \n",
    "*Impact* — влияние на пользователей по 10-балльной шкале;  \n",
    "*Confidence* — уверенность в гипотезе по 10-балльной шкале;  \n",
    "*Efforts* — затраты ресурсов на проверку гипотезы по 10-балльной шкале. Чем больше значение Efforts, тем дороже проверка гипотезы.  \n",
    "      \n",
    "**Данные для второй части**  \n",
    "      \n",
    "Файл orders.csv  \n",
    "      \n",
    "*transactionId* — идентификатор заказа;  \n",
    "*visitorId* — идентификатор пользователя, совершившего заказ;  \n",
    "*date* — дата, когда был совершён заказ;  \n",
    "*revenue* — выручка заказа;  \n",
    "*group* — группа A/B-теста, в которую попал заказ.  \n",
    "      \n",
    "Файл visitors.csv  \n",
    "      \n",
    "*date* — дата;  \n",
    "*group* — группа A/B-теста;  \n",
    "*visitors* — количество пользователей в указанную дату в указанной группе A/B-теста.     \n",
    "     \n",
    "</div>"
   ]
  },
  {
   "cell_type": "markdown",
   "metadata": {},
   "source": [
    "# Загрузим данные и подготовим их к анализу"
   ]
  },
  {
   "cell_type": "code",
   "execution_count": 1,
   "metadata": {},
   "outputs": [],
   "source": [
    "# импортируем библиотеки\n",
    "\n",
    "import pandas as pd\n",
    "import datetime as dt\n",
    "import numpy as np\n",
    "import matplotlib.pyplot as plt\n",
    "import scipy.stats as stats"
   ]
  },
  {
   "cell_type": "code",
   "execution_count": 2,
   "metadata": {},
   "outputs": [],
   "source": [
    "#считываем датасет\n",
    "\n",
    "try:\n",
    "    hypothesis = pd.read_csv('/datasets/hypothesis.csv')\n",
    "    orders = pd.read_csv('/datasets/orders.csv')\n",
    "    visitors = pd.read_csv('/datasets/visitors.csv')\n",
    "except:\n",
    "    hypothesis = pd.read_csv('hypothesis.csv')\n",
    "    orders = pd.read_csv('orders.csv')\n",
    "    visitors = pd.read_csv('visitors.csv')"
   ]
  },
  {
   "cell_type": "code",
   "execution_count": 3,
   "metadata": {},
   "outputs": [
    {
     "name": "stdout",
     "output_type": "stream",
     "text": [
      "<class 'pandas.core.frame.DataFrame'>\n",
      "RangeIndex: 9 entries, 0 to 8\n",
      "Data columns (total 5 columns):\n",
      " #   Column      Non-Null Count  Dtype \n",
      "---  ------      --------------  ----- \n",
      " 0   Hypothesis  9 non-null      object\n",
      " 1   Reach       9 non-null      int64 \n",
      " 2   Impact      9 non-null      int64 \n",
      " 3   Confidence  9 non-null      int64 \n",
      " 4   Efforts     9 non-null      int64 \n",
      "dtypes: int64(4), object(1)\n",
      "memory usage: 488.0+ bytes\n"
     ]
    },
    {
     "data": {
      "text/html": [
       "<div>\n",
       "<style scoped>\n",
       "    .dataframe tbody tr th:only-of-type {\n",
       "        vertical-align: middle;\n",
       "    }\n",
       "\n",
       "    .dataframe tbody tr th {\n",
       "        vertical-align: top;\n",
       "    }\n",
       "\n",
       "    .dataframe thead th {\n",
       "        text-align: right;\n",
       "    }\n",
       "</style>\n",
       "<table border=\"1\" class=\"dataframe\">\n",
       "  <thead>\n",
       "    <tr style=\"text-align: right;\">\n",
       "      <th></th>\n",
       "      <th>Hypothesis</th>\n",
       "      <th>Reach</th>\n",
       "      <th>Impact</th>\n",
       "      <th>Confidence</th>\n",
       "      <th>Efforts</th>\n",
       "    </tr>\n",
       "  </thead>\n",
       "  <tbody>\n",
       "    <tr>\n",
       "      <th>0</th>\n",
       "      <td>Добавить два новых канала привлечения трафика, что позволит привлекать на 30% больше пользователей</td>\n",
       "      <td>3</td>\n",
       "      <td>10</td>\n",
       "      <td>8</td>\n",
       "      <td>6</td>\n",
       "    </tr>\n",
       "    <tr>\n",
       "      <th>1</th>\n",
       "      <td>Запустить собственную службу доставки, что сократит срок доставки заказов</td>\n",
       "      <td>2</td>\n",
       "      <td>5</td>\n",
       "      <td>4</td>\n",
       "      <td>10</td>\n",
       "    </tr>\n",
       "    <tr>\n",
       "      <th>2</th>\n",
       "      <td>Добавить блоки рекомендаций товаров на сайт интернет магазина, чтобы повысить конверсию и средни...</td>\n",
       "      <td>8</td>\n",
       "      <td>3</td>\n",
       "      <td>7</td>\n",
       "      <td>3</td>\n",
       "    </tr>\n",
       "    <tr>\n",
       "      <th>3</th>\n",
       "      <td>Изменить структура категорий, что увеличит конверсию, т.к. пользователи быстрее найдут нужный товар</td>\n",
       "      <td>8</td>\n",
       "      <td>3</td>\n",
       "      <td>3</td>\n",
       "      <td>8</td>\n",
       "    </tr>\n",
       "    <tr>\n",
       "      <th>4</th>\n",
       "      <td>Изменить цвет фона главной страницы, чтобы увеличить вовлеченность пользователей</td>\n",
       "      <td>3</td>\n",
       "      <td>1</td>\n",
       "      <td>1</td>\n",
       "      <td>1</td>\n",
       "    </tr>\n",
       "  </tbody>\n",
       "</table>\n",
       "</div>"
      ],
      "text/plain": [
       "                                                                                            Hypothesis  \\\n",
       "0   Добавить два новых канала привлечения трафика, что позволит привлекать на 30% больше пользователей   \n",
       "1                            Запустить собственную службу доставки, что сократит срок доставки заказов   \n",
       "2  Добавить блоки рекомендаций товаров на сайт интернет магазина, чтобы повысить конверсию и средни...   \n",
       "3  Изменить структура категорий, что увеличит конверсию, т.к. пользователи быстрее найдут нужный товар   \n",
       "4                     Изменить цвет фона главной страницы, чтобы увеличить вовлеченность пользователей   \n",
       "\n",
       "   Reach  Impact  Confidence  Efforts  \n",
       "0      3      10           8        6  \n",
       "1      2       5           4       10  \n",
       "2      8       3           7        3  \n",
       "3      8       3           3        8  \n",
       "4      3       1           1        1  "
      ]
     },
     "execution_count": 3,
     "metadata": {},
     "output_type": "execute_result"
    }
   ],
   "source": [
    "# получаем общую информацию и изучаем первые строки датафрейма hypothesis\n",
    "\n",
    "hypothesis.info()\n",
    "pd.options.display.max_colwidth = 100\n",
    "hypothesis.head()"
   ]
  },
  {
   "cell_type": "code",
   "execution_count": 4,
   "metadata": {},
   "outputs": [
    {
     "data": {
      "text/html": [
       "<div>\n",
       "<style scoped>\n",
       "    .dataframe tbody tr th:only-of-type {\n",
       "        vertical-align: middle;\n",
       "    }\n",
       "\n",
       "    .dataframe tbody tr th {\n",
       "        vertical-align: top;\n",
       "    }\n",
       "\n",
       "    .dataframe thead th {\n",
       "        text-align: right;\n",
       "    }\n",
       "</style>\n",
       "<table border=\"1\" class=\"dataframe\">\n",
       "  <thead>\n",
       "    <tr style=\"text-align: right;\">\n",
       "      <th></th>\n",
       "      <th>hypothesis</th>\n",
       "      <th>reach</th>\n",
       "      <th>impact</th>\n",
       "      <th>confidence</th>\n",
       "      <th>efforts</th>\n",
       "    </tr>\n",
       "  </thead>\n",
       "  <tbody>\n",
       "    <tr>\n",
       "      <th>0</th>\n",
       "      <td>Добавить два новых канала привлечения трафика, что позволит привлекать на 30% больше пользователей</td>\n",
       "      <td>3</td>\n",
       "      <td>10</td>\n",
       "      <td>8</td>\n",
       "      <td>6</td>\n",
       "    </tr>\n",
       "    <tr>\n",
       "      <th>1</th>\n",
       "      <td>Запустить собственную службу доставки, что сократит срок доставки заказов</td>\n",
       "      <td>2</td>\n",
       "      <td>5</td>\n",
       "      <td>4</td>\n",
       "      <td>10</td>\n",
       "    </tr>\n",
       "    <tr>\n",
       "      <th>2</th>\n",
       "      <td>Добавить блоки рекомендаций товаров на сайт интернет магазина, чтобы повысить конверсию и средни...</td>\n",
       "      <td>8</td>\n",
       "      <td>3</td>\n",
       "      <td>7</td>\n",
       "      <td>3</td>\n",
       "    </tr>\n",
       "    <tr>\n",
       "      <th>3</th>\n",
       "      <td>Изменить структура категорий, что увеличит конверсию, т.к. пользователи быстрее найдут нужный товар</td>\n",
       "      <td>8</td>\n",
       "      <td>3</td>\n",
       "      <td>3</td>\n",
       "      <td>8</td>\n",
       "    </tr>\n",
       "    <tr>\n",
       "      <th>4</th>\n",
       "      <td>Изменить цвет фона главной страницы, чтобы увеличить вовлеченность пользователей</td>\n",
       "      <td>3</td>\n",
       "      <td>1</td>\n",
       "      <td>1</td>\n",
       "      <td>1</td>\n",
       "    </tr>\n",
       "  </tbody>\n",
       "</table>\n",
       "</div>"
      ],
      "text/plain": [
       "                                                                                            hypothesis  \\\n",
       "0   Добавить два новых канала привлечения трафика, что позволит привлекать на 30% больше пользователей   \n",
       "1                            Запустить собственную службу доставки, что сократит срок доставки заказов   \n",
       "2  Добавить блоки рекомендаций товаров на сайт интернет магазина, чтобы повысить конверсию и средни...   \n",
       "3  Изменить структура категорий, что увеличит конверсию, т.к. пользователи быстрее найдут нужный товар   \n",
       "4                     Изменить цвет фона главной страницы, чтобы увеличить вовлеченность пользователей   \n",
       "\n",
       "   reach  impact  confidence  efforts  \n",
       "0      3      10           8        6  \n",
       "1      2       5           4       10  \n",
       "2      8       3           7        3  \n",
       "3      8       3           3        8  \n",
       "4      3       1           1        1  "
      ]
     },
     "execution_count": 4,
     "metadata": {},
     "output_type": "execute_result"
    }
   ],
   "source": [
    "# приводём колонки к нижнему регистру\n",
    "\n",
    "hypothesis.columns = map(str.lower, hypothesis.columns)\n",
    "hypothesis.head(5)"
   ]
  },
  {
   "cell_type": "markdown",
   "metadata": {},
   "source": [
    "Датасет hypothesis содержит следующую информацию:\n",
    "\n",
    "*hypothesis* — краткое описание гипотезы;  \n",
    "*reach* — охват пользователей по 10-балльной шкале;  \n",
    "*impact* — влияние на пользователей по 10-балльной шкале;  \n",
    "*confidence* — уверенность в гипотезе по 10-балльной шкале;  \n",
    "*efforts* — затраты ресурсов на проверку гипотезы по 10-балльной шкале.  "
   ]
  },
  {
   "cell_type": "code",
   "execution_count": 5,
   "metadata": {},
   "outputs": [
    {
     "name": "stdout",
     "output_type": "stream",
     "text": [
      "Количество явных дубликатов: 0\n"
     ]
    }
   ],
   "source": [
    "# проверяем наличие явных дубликатов\n",
    "\n",
    "print('Количество явных дубликатов:', hypothesis.duplicated().sum())"
   ]
  },
  {
   "cell_type": "markdown",
   "metadata": {},
   "source": [
    "**Применим фреймворк ICE для приоритизации гипотез**"
   ]
  },
  {
   "cell_type": "markdown",
   "metadata": {},
   "source": [
    "Формула для нахождения ICE:\n",
    "\n",
    "***ICE score = (Impact * Confidence) / Efforts***"
   ]
  },
  {
   "cell_type": "code",
   "execution_count": 6,
   "metadata": {},
   "outputs": [
    {
     "data": {
      "text/html": [
       "<div>\n",
       "<style scoped>\n",
       "    .dataframe tbody tr th:only-of-type {\n",
       "        vertical-align: middle;\n",
       "    }\n",
       "\n",
       "    .dataframe tbody tr th {\n",
       "        vertical-align: top;\n",
       "    }\n",
       "\n",
       "    .dataframe thead th {\n",
       "        text-align: right;\n",
       "    }\n",
       "</style>\n",
       "<table border=\"1\" class=\"dataframe\">\n",
       "  <thead>\n",
       "    <tr style=\"text-align: right;\">\n",
       "      <th></th>\n",
       "      <th>hypothesis</th>\n",
       "      <th>reach</th>\n",
       "      <th>impact</th>\n",
       "      <th>confidence</th>\n",
       "      <th>efforts</th>\n",
       "      <th>ICE</th>\n",
       "    </tr>\n",
       "  </thead>\n",
       "  <tbody>\n",
       "    <tr>\n",
       "      <th>8</th>\n",
       "      <td>Запустить акцию, дающую скидку на товар в день рождения</td>\n",
       "      <td>1</td>\n",
       "      <td>9</td>\n",
       "      <td>9</td>\n",
       "      <td>5</td>\n",
       "      <td>16.0</td>\n",
       "    </tr>\n",
       "    <tr>\n",
       "      <th>0</th>\n",
       "      <td>Добавить два новых канала привлечения трафика, что позволит привлекать на 30% больше пользователей</td>\n",
       "      <td>3</td>\n",
       "      <td>10</td>\n",
       "      <td>8</td>\n",
       "      <td>6</td>\n",
       "      <td>13.0</td>\n",
       "    </tr>\n",
       "    <tr>\n",
       "      <th>7</th>\n",
       "      <td>Добавить форму подписки на все основные страницы, чтобы собрать базу клиентов для email-рассылок</td>\n",
       "      <td>10</td>\n",
       "      <td>7</td>\n",
       "      <td>8</td>\n",
       "      <td>5</td>\n",
       "      <td>11.0</td>\n",
       "    </tr>\n",
       "    <tr>\n",
       "      <th>6</th>\n",
       "      <td>Показать на главной странице баннеры с актуальными акциями и распродажами, чтобы увеличить конве...</td>\n",
       "      <td>5</td>\n",
       "      <td>3</td>\n",
       "      <td>8</td>\n",
       "      <td>3</td>\n",
       "      <td>8.0</td>\n",
       "    </tr>\n",
       "    <tr>\n",
       "      <th>2</th>\n",
       "      <td>Добавить блоки рекомендаций товаров на сайт интернет магазина, чтобы повысить конверсию и средни...</td>\n",
       "      <td>8</td>\n",
       "      <td>3</td>\n",
       "      <td>7</td>\n",
       "      <td>3</td>\n",
       "      <td>7.0</td>\n",
       "    </tr>\n",
       "    <tr>\n",
       "      <th>1</th>\n",
       "      <td>Запустить собственную службу доставки, что сократит срок доставки заказов</td>\n",
       "      <td>2</td>\n",
       "      <td>5</td>\n",
       "      <td>4</td>\n",
       "      <td>10</td>\n",
       "      <td>2.0</td>\n",
       "    </tr>\n",
       "    <tr>\n",
       "      <th>3</th>\n",
       "      <td>Изменить структура категорий, что увеличит конверсию, т.к. пользователи быстрее найдут нужный товар</td>\n",
       "      <td>8</td>\n",
       "      <td>3</td>\n",
       "      <td>3</td>\n",
       "      <td>8</td>\n",
       "      <td>1.0</td>\n",
       "    </tr>\n",
       "    <tr>\n",
       "      <th>4</th>\n",
       "      <td>Изменить цвет фона главной страницы, чтобы увеличить вовлеченность пользователей</td>\n",
       "      <td>3</td>\n",
       "      <td>1</td>\n",
       "      <td>1</td>\n",
       "      <td>1</td>\n",
       "      <td>1.0</td>\n",
       "    </tr>\n",
       "    <tr>\n",
       "      <th>5</th>\n",
       "      <td>Добавить страницу отзывов клиентов о магазине, что позволит увеличить количество заказов</td>\n",
       "      <td>3</td>\n",
       "      <td>2</td>\n",
       "      <td>2</td>\n",
       "      <td>3</td>\n",
       "      <td>1.0</td>\n",
       "    </tr>\n",
       "  </tbody>\n",
       "</table>\n",
       "</div>"
      ],
      "text/plain": [
       "                                                                                            hypothesis  \\\n",
       "8                                              Запустить акцию, дающую скидку на товар в день рождения   \n",
       "0   Добавить два новых канала привлечения трафика, что позволит привлекать на 30% больше пользователей   \n",
       "7     Добавить форму подписки на все основные страницы, чтобы собрать базу клиентов для email-рассылок   \n",
       "6  Показать на главной странице баннеры с актуальными акциями и распродажами, чтобы увеличить конве...   \n",
       "2  Добавить блоки рекомендаций товаров на сайт интернет магазина, чтобы повысить конверсию и средни...   \n",
       "1                            Запустить собственную службу доставки, что сократит срок доставки заказов   \n",
       "3  Изменить структура категорий, что увеличит конверсию, т.к. пользователи быстрее найдут нужный товар   \n",
       "4                     Изменить цвет фона главной страницы, чтобы увеличить вовлеченность пользователей   \n",
       "5             Добавить страницу отзывов клиентов о магазине, что позволит увеличить количество заказов   \n",
       "\n",
       "   reach  impact  confidence  efforts   ICE  \n",
       "8      1       9           9        5  16.0  \n",
       "0      3      10           8        6  13.0  \n",
       "7     10       7           8        5  11.0  \n",
       "6      5       3           8        3   8.0  \n",
       "2      8       3           7        3   7.0  \n",
       "1      2       5           4       10   2.0  \n",
       "3      8       3           3        8   1.0  \n",
       "4      3       1           1        1   1.0  \n",
       "5      3       2           2        3   1.0  "
      ]
     },
     "execution_count": 6,
     "metadata": {},
     "output_type": "execute_result"
    }
   ],
   "source": [
    "# рассчитаем показатель ICE\n",
    "hypothesis['ICE'] = round((hypothesis['impact'] * hypothesis['confidence']) / hypothesis['efforts'])\n",
    "\n",
    "# сортируем по результатам ICE\n",
    "hypothesis.sort_values(by='ICE', ascending=False)"
   ]
  },
  {
   "cell_type": "markdown",
   "metadata": {},
   "source": [
    "Видим, что гипотезы 8, 0, 7, 6 и 2 являются наиболее приоритетными задачами с позиции вероятного влияния их на выручку, без учёта пользовательского охвата."
   ]
  },
  {
   "cell_type": "markdown",
   "metadata": {},
   "source": [
    "**Применение фреймворка RICE для приоритизации гипотез**"
   ]
  },
  {
   "cell_type": "markdown",
   "metadata": {},
   "source": [
    "Формула для нахождения RICE:\n",
    "\n",
    "***RICE score = (Reach * Impact * Confidence) / Efforts***"
   ]
  },
  {
   "cell_type": "code",
   "execution_count": 7,
   "metadata": {},
   "outputs": [
    {
     "data": {
      "text/html": [
       "<div>\n",
       "<style scoped>\n",
       "    .dataframe tbody tr th:only-of-type {\n",
       "        vertical-align: middle;\n",
       "    }\n",
       "\n",
       "    .dataframe tbody tr th {\n",
       "        vertical-align: top;\n",
       "    }\n",
       "\n",
       "    .dataframe thead th {\n",
       "        text-align: right;\n",
       "    }\n",
       "</style>\n",
       "<table border=\"1\" class=\"dataframe\">\n",
       "  <thead>\n",
       "    <tr style=\"text-align: right;\">\n",
       "      <th></th>\n",
       "      <th>hypothesis</th>\n",
       "      <th>reach</th>\n",
       "      <th>impact</th>\n",
       "      <th>confidence</th>\n",
       "      <th>efforts</th>\n",
       "      <th>ICE</th>\n",
       "      <th>RICE</th>\n",
       "    </tr>\n",
       "  </thead>\n",
       "  <tbody>\n",
       "    <tr>\n",
       "      <th>7</th>\n",
       "      <td>Добавить форму подписки на все основные страницы, чтобы собрать базу клиентов для email-рассылок</td>\n",
       "      <td>10</td>\n",
       "      <td>7</td>\n",
       "      <td>8</td>\n",
       "      <td>5</td>\n",
       "      <td>11.0</td>\n",
       "      <td>112.0</td>\n",
       "    </tr>\n",
       "    <tr>\n",
       "      <th>2</th>\n",
       "      <td>Добавить блоки рекомендаций товаров на сайт интернет магазина, чтобы повысить конверсию и средни...</td>\n",
       "      <td>8</td>\n",
       "      <td>3</td>\n",
       "      <td>7</td>\n",
       "      <td>3</td>\n",
       "      <td>7.0</td>\n",
       "      <td>56.0</td>\n",
       "    </tr>\n",
       "    <tr>\n",
       "      <th>0</th>\n",
       "      <td>Добавить два новых канала привлечения трафика, что позволит привлекать на 30% больше пользователей</td>\n",
       "      <td>3</td>\n",
       "      <td>10</td>\n",
       "      <td>8</td>\n",
       "      <td>6</td>\n",
       "      <td>13.0</td>\n",
       "      <td>40.0</td>\n",
       "    </tr>\n",
       "    <tr>\n",
       "      <th>6</th>\n",
       "      <td>Показать на главной странице баннеры с актуальными акциями и распродажами, чтобы увеличить конве...</td>\n",
       "      <td>5</td>\n",
       "      <td>3</td>\n",
       "      <td>8</td>\n",
       "      <td>3</td>\n",
       "      <td>8.0</td>\n",
       "      <td>40.0</td>\n",
       "    </tr>\n",
       "    <tr>\n",
       "      <th>8</th>\n",
       "      <td>Запустить акцию, дающую скидку на товар в день рождения</td>\n",
       "      <td>1</td>\n",
       "      <td>9</td>\n",
       "      <td>9</td>\n",
       "      <td>5</td>\n",
       "      <td>16.0</td>\n",
       "      <td>16.0</td>\n",
       "    </tr>\n",
       "    <tr>\n",
       "      <th>3</th>\n",
       "      <td>Изменить структура категорий, что увеличит конверсию, т.к. пользователи быстрее найдут нужный товар</td>\n",
       "      <td>8</td>\n",
       "      <td>3</td>\n",
       "      <td>3</td>\n",
       "      <td>8</td>\n",
       "      <td>1.0</td>\n",
       "      <td>9.0</td>\n",
       "    </tr>\n",
       "    <tr>\n",
       "      <th>1</th>\n",
       "      <td>Запустить собственную службу доставки, что сократит срок доставки заказов</td>\n",
       "      <td>2</td>\n",
       "      <td>5</td>\n",
       "      <td>4</td>\n",
       "      <td>10</td>\n",
       "      <td>2.0</td>\n",
       "      <td>4.0</td>\n",
       "    </tr>\n",
       "    <tr>\n",
       "      <th>5</th>\n",
       "      <td>Добавить страницу отзывов клиентов о магазине, что позволит увеличить количество заказов</td>\n",
       "      <td>3</td>\n",
       "      <td>2</td>\n",
       "      <td>2</td>\n",
       "      <td>3</td>\n",
       "      <td>1.0</td>\n",
       "      <td>4.0</td>\n",
       "    </tr>\n",
       "    <tr>\n",
       "      <th>4</th>\n",
       "      <td>Изменить цвет фона главной страницы, чтобы увеличить вовлеченность пользователей</td>\n",
       "      <td>3</td>\n",
       "      <td>1</td>\n",
       "      <td>1</td>\n",
       "      <td>1</td>\n",
       "      <td>1.0</td>\n",
       "      <td>3.0</td>\n",
       "    </tr>\n",
       "  </tbody>\n",
       "</table>\n",
       "</div>"
      ],
      "text/plain": [
       "                                                                                            hypothesis  \\\n",
       "7     Добавить форму подписки на все основные страницы, чтобы собрать базу клиентов для email-рассылок   \n",
       "2  Добавить блоки рекомендаций товаров на сайт интернет магазина, чтобы повысить конверсию и средни...   \n",
       "0   Добавить два новых канала привлечения трафика, что позволит привлекать на 30% больше пользователей   \n",
       "6  Показать на главной странице баннеры с актуальными акциями и распродажами, чтобы увеличить конве...   \n",
       "8                                              Запустить акцию, дающую скидку на товар в день рождения   \n",
       "3  Изменить структура категорий, что увеличит конверсию, т.к. пользователи быстрее найдут нужный товар   \n",
       "1                            Запустить собственную службу доставки, что сократит срок доставки заказов   \n",
       "5             Добавить страницу отзывов клиентов о магазине, что позволит увеличить количество заказов   \n",
       "4                     Изменить цвет фона главной страницы, чтобы увеличить вовлеченность пользователей   \n",
       "\n",
       "   reach  impact  confidence  efforts   ICE   RICE  \n",
       "7     10       7           8        5  11.0  112.0  \n",
       "2      8       3           7        3   7.0   56.0  \n",
       "0      3      10           8        6  13.0   40.0  \n",
       "6      5       3           8        3   8.0   40.0  \n",
       "8      1       9           9        5  16.0   16.0  \n",
       "3      8       3           3        8   1.0    9.0  \n",
       "1      2       5           4       10   2.0    4.0  \n",
       "5      3       2           2        3   1.0    4.0  \n",
       "4      3       1           1        1   1.0    3.0  "
      ]
     },
     "execution_count": 7,
     "metadata": {},
     "output_type": "execute_result"
    }
   ],
   "source": [
    "# рассчитаем показатель RICE\n",
    "hypothesis['RICE'] = round((hypothesis['reach'] * hypothesis['impact'] * hypothesis['confidence']) / hypothesis['efforts'])\n",
    "\n",
    "# сортируем по результатам RICE\n",
    "hypothesis.sort_values(by='RICE', ascending=False)"
   ]
  },
  {
   "cell_type": "markdown",
   "metadata": {},
   "source": [
    "Видно, что при расчёте методом RICE порядок изменился - самыми перспективными гипотезами будут в порядке убывания 7, 2, 0, 6 и 8."
   ]
  },
  {
   "cell_type": "markdown",
   "metadata": {},
   "source": [
    "***Вывод:***\n",
    "<div style=\"border:solid green 1px; padding: 20px\">\n",
    "    \n",
    "Самая перспективная гипотеза по ICE - это \"Запустить акцию, дающую скидку на товар в день рождения\", 9 по значениям impact и confidence, и с всего 1 по reach. Таким образом, влияние минимально, затронет небольшое количество пользователей.  \n",
    "  \n",
    "А самая перспективная по RICE - это \"Добавить форму подписки на все основные страницы, чтобы собрать базу клиентов для email-рассылок\", у неё reach все 10, а impact и confidence 7 и 8 соответственно.  \n",
    "    Действительно, добавление формы подписки имеет гораздо большее влияние и охват, а оставившие свой email пользователи скорее всего лояльны к компании и могут хорошо сконвертироваться в будущем.  \n",
    "\n",
    "Также интересно, что топ-5 гипотез по обоим фреймворкам одинаковый, поменялся только порядок. Стоит рассматривать эту пятёрку в первую очередь.    \n",
    "    \n",
    "</div>"
   ]
  },
  {
   "cell_type": "markdown",
   "metadata": {},
   "source": [
    "# Анализ A/B-теста"
   ]
  },
  {
   "cell_type": "markdown",
   "metadata": {},
   "source": [
    "**Построим график кумулятивной выручки по группам**"
   ]
  },
  {
   "cell_type": "code",
   "execution_count": 8,
   "metadata": {},
   "outputs": [
    {
     "name": "stdout",
     "output_type": "stream",
     "text": [
      "<class 'pandas.core.frame.DataFrame'>\n",
      "RangeIndex: 1197 entries, 0 to 1196\n",
      "Data columns (total 5 columns):\n",
      " #   Column         Non-Null Count  Dtype \n",
      "---  ------         --------------  ----- \n",
      " 0   transactionId  1197 non-null   int64 \n",
      " 1   visitorId      1197 non-null   int64 \n",
      " 2   date           1197 non-null   object\n",
      " 3   revenue        1197 non-null   int64 \n",
      " 4   group          1197 non-null   object\n",
      "dtypes: int64(3), object(2)\n",
      "memory usage: 46.9+ KB\n"
     ]
    },
    {
     "data": {
      "text/html": [
       "<div>\n",
       "<style scoped>\n",
       "    .dataframe tbody tr th:only-of-type {\n",
       "        vertical-align: middle;\n",
       "    }\n",
       "\n",
       "    .dataframe tbody tr th {\n",
       "        vertical-align: top;\n",
       "    }\n",
       "\n",
       "    .dataframe thead th {\n",
       "        text-align: right;\n",
       "    }\n",
       "</style>\n",
       "<table border=\"1\" class=\"dataframe\">\n",
       "  <thead>\n",
       "    <tr style=\"text-align: right;\">\n",
       "      <th></th>\n",
       "      <th>transactionId</th>\n",
       "      <th>visitorId</th>\n",
       "      <th>date</th>\n",
       "      <th>revenue</th>\n",
       "      <th>group</th>\n",
       "    </tr>\n",
       "  </thead>\n",
       "  <tbody>\n",
       "    <tr>\n",
       "      <th>0</th>\n",
       "      <td>3667963787</td>\n",
       "      <td>3312258926</td>\n",
       "      <td>2019-08-15</td>\n",
       "      <td>1650</td>\n",
       "      <td>B</td>\n",
       "    </tr>\n",
       "    <tr>\n",
       "      <th>1</th>\n",
       "      <td>2804400009</td>\n",
       "      <td>3642806036</td>\n",
       "      <td>2019-08-15</td>\n",
       "      <td>730</td>\n",
       "      <td>B</td>\n",
       "    </tr>\n",
       "    <tr>\n",
       "      <th>2</th>\n",
       "      <td>2961555356</td>\n",
       "      <td>4069496402</td>\n",
       "      <td>2019-08-15</td>\n",
       "      <td>400</td>\n",
       "      <td>A</td>\n",
       "    </tr>\n",
       "    <tr>\n",
       "      <th>3</th>\n",
       "      <td>3797467345</td>\n",
       "      <td>1196621759</td>\n",
       "      <td>2019-08-15</td>\n",
       "      <td>9759</td>\n",
       "      <td>B</td>\n",
       "    </tr>\n",
       "    <tr>\n",
       "      <th>4</th>\n",
       "      <td>2282983706</td>\n",
       "      <td>2322279887</td>\n",
       "      <td>2019-08-15</td>\n",
       "      <td>2308</td>\n",
       "      <td>B</td>\n",
       "    </tr>\n",
       "  </tbody>\n",
       "</table>\n",
       "</div>"
      ],
      "text/plain": [
       "   transactionId   visitorId        date  revenue group\n",
       "0     3667963787  3312258926  2019-08-15     1650     B\n",
       "1     2804400009  3642806036  2019-08-15      730     B\n",
       "2     2961555356  4069496402  2019-08-15      400     A\n",
       "3     3797467345  1196621759  2019-08-15     9759     B\n",
       "4     2282983706  2322279887  2019-08-15     2308     B"
      ]
     },
     "execution_count": 8,
     "metadata": {},
     "output_type": "execute_result"
    }
   ],
   "source": [
    "# получаем общую информацию и изучаем первые строки датафрейма orders\n",
    "\n",
    "orders.info()\n",
    "orders.head()"
   ]
  },
  {
   "cell_type": "markdown",
   "metadata": {},
   "source": [
    "Датасет orders содержит следующую информацию о заказах:  \n",
    "\n",
    "*transactionId* — идентификатор заказа;  \n",
    "*visitorId* — идентификатор пользователя, совершившего заказ;  \n",
    "*date* — дата, когда был совершён заказ;  \n",
    "*revenue* — выручка заказа;  \n",
    "*group* — группа A/B-теста, в которую попал заказ.  "
   ]
  },
  {
   "cell_type": "code",
   "execution_count": 9,
   "metadata": {},
   "outputs": [
    {
     "name": "stdout",
     "output_type": "stream",
     "text": [
      "Количество явных дубликатов: 0\n"
     ]
    }
   ],
   "source": [
    "# проверяем наличие явных дубликатов\n",
    "\n",
    "print('Количество явных дубликатов:', orders.duplicated().sum())"
   ]
  },
  {
   "cell_type": "code",
   "execution_count": 10,
   "metadata": {},
   "outputs": [
    {
     "name": "stdout",
     "output_type": "stream",
     "text": [
      "<class 'pandas.core.frame.DataFrame'>\n",
      "RangeIndex: 62 entries, 0 to 61\n",
      "Data columns (total 3 columns):\n",
      " #   Column    Non-Null Count  Dtype \n",
      "---  ------    --------------  ----- \n",
      " 0   date      62 non-null     object\n",
      " 1   group     62 non-null     object\n",
      " 2   visitors  62 non-null     int64 \n",
      "dtypes: int64(1), object(2)\n",
      "memory usage: 1.6+ KB\n"
     ]
    },
    {
     "data": {
      "text/html": [
       "<div>\n",
       "<style scoped>\n",
       "    .dataframe tbody tr th:only-of-type {\n",
       "        vertical-align: middle;\n",
       "    }\n",
       "\n",
       "    .dataframe tbody tr th {\n",
       "        vertical-align: top;\n",
       "    }\n",
       "\n",
       "    .dataframe thead th {\n",
       "        text-align: right;\n",
       "    }\n",
       "</style>\n",
       "<table border=\"1\" class=\"dataframe\">\n",
       "  <thead>\n",
       "    <tr style=\"text-align: right;\">\n",
       "      <th></th>\n",
       "      <th>date</th>\n",
       "      <th>group</th>\n",
       "      <th>visitors</th>\n",
       "    </tr>\n",
       "  </thead>\n",
       "  <tbody>\n",
       "    <tr>\n",
       "      <th>0</th>\n",
       "      <td>2019-08-01</td>\n",
       "      <td>A</td>\n",
       "      <td>719</td>\n",
       "    </tr>\n",
       "    <tr>\n",
       "      <th>1</th>\n",
       "      <td>2019-08-02</td>\n",
       "      <td>A</td>\n",
       "      <td>619</td>\n",
       "    </tr>\n",
       "    <tr>\n",
       "      <th>2</th>\n",
       "      <td>2019-08-03</td>\n",
       "      <td>A</td>\n",
       "      <td>507</td>\n",
       "    </tr>\n",
       "    <tr>\n",
       "      <th>3</th>\n",
       "      <td>2019-08-04</td>\n",
       "      <td>A</td>\n",
       "      <td>717</td>\n",
       "    </tr>\n",
       "    <tr>\n",
       "      <th>4</th>\n",
       "      <td>2019-08-05</td>\n",
       "      <td>A</td>\n",
       "      <td>756</td>\n",
       "    </tr>\n",
       "  </tbody>\n",
       "</table>\n",
       "</div>"
      ],
      "text/plain": [
       "         date group  visitors\n",
       "0  2019-08-01     A       719\n",
       "1  2019-08-02     A       619\n",
       "2  2019-08-03     A       507\n",
       "3  2019-08-04     A       717\n",
       "4  2019-08-05     A       756"
      ]
     },
     "execution_count": 10,
     "metadata": {},
     "output_type": "execute_result"
    }
   ],
   "source": [
    "# получаем общую информацию и изучаем первые строки датафрейма visitors\n",
    "\n",
    "visitors.info()\n",
    "visitors.head()"
   ]
  },
  {
   "cell_type": "markdown",
   "metadata": {},
   "source": [
    "Датасет visitors содержит следующую информацию о посетителях:  \n",
    "\n",
    "*date* — дата;  \n",
    "*group* — группа A/B-теста;  \n",
    "*visitors* — количество пользователей в указанную дату в указанной группе A/B-теста.  "
   ]
  },
  {
   "cell_type": "code",
   "execution_count": 11,
   "metadata": {},
   "outputs": [
    {
     "name": "stdout",
     "output_type": "stream",
     "text": [
      "Количество явных дубликатов: 0\n"
     ]
    }
   ],
   "source": [
    "# проверяем наличие явных дубликатов\n",
    "\n",
    "print('Количество явных дубликатов:', visitors.duplicated().sum())"
   ]
  },
  {
   "cell_type": "code",
   "execution_count": 12,
   "metadata": {},
   "outputs": [],
   "source": [
    "# приведем тип поля date к datetime  \n",
    "\n",
    "orders['date'] = pd.to_datetime(orders['date'], format='%Y-%m-%d')\n",
    "visitors['date'] = pd.to_datetime(visitors['date'], format='%Y-%m-%d')"
   ]
  },
  {
   "cell_type": "code",
   "execution_count": 13,
   "metadata": {},
   "outputs": [
    {
     "name": "stdout",
     "output_type": "stream",
     "text": [
      "Количество пользователей, попавших в обе группы: 58\n"
     ]
    }
   ],
   "source": [
    "# поиск пользователей, попавших в обе группы\n",
    "\n",
    "duplicated_users = orders.groupby('visitorId').agg({'group':['nunique']})\n",
    "duplicated_users.columns = ['groups']\n",
    "duplicated_users = duplicated_users.query('groups > 1')\n",
    "print('Количество пользователей, попавших в обе группы:', len(duplicated_users))\n",
    "\n",
    "# очистка таблицы от пользователей, попавших в обе группы\n",
    "\n",
    "orders = orders.query('visitorId not in @duplicated_users.index')"
   ]
  },
  {
   "cell_type": "markdown",
   "metadata": {},
   "source": [
    "Проверили сколько пользователей попали в обе группы и очистили данные от них."
   ]
  },
  {
   "cell_type": "markdown",
   "metadata": {},
   "source": [
    "Для того, чтобы построить график, нужно собрать кумулятивные данные. Для этого:"
   ]
  },
  {
   "cell_type": "code",
   "execution_count": 14,
   "metadata": {},
   "outputs": [
    {
     "data": {
      "text/html": [
       "<div>\n",
       "<style scoped>\n",
       "    .dataframe tbody tr th:only-of-type {\n",
       "        vertical-align: middle;\n",
       "    }\n",
       "\n",
       "    .dataframe tbody tr th {\n",
       "        vertical-align: top;\n",
       "    }\n",
       "\n",
       "    .dataframe thead th {\n",
       "        text-align: right;\n",
       "    }\n",
       "</style>\n",
       "<table border=\"1\" class=\"dataframe\">\n",
       "  <thead>\n",
       "    <tr style=\"text-align: right;\">\n",
       "      <th></th>\n",
       "      <th>date</th>\n",
       "      <th>group</th>\n",
       "      <th>transactionId</th>\n",
       "      <th>visitorId</th>\n",
       "      <th>revenue</th>\n",
       "    </tr>\n",
       "  </thead>\n",
       "  <tbody>\n",
       "    <tr>\n",
       "      <th>55</th>\n",
       "      <td>2019-08-01</td>\n",
       "      <td>A</td>\n",
       "      <td>23</td>\n",
       "      <td>19</td>\n",
       "      <td>142779</td>\n",
       "    </tr>\n",
       "    <tr>\n",
       "      <th>66</th>\n",
       "      <td>2019-08-01</td>\n",
       "      <td>B</td>\n",
       "      <td>17</td>\n",
       "      <td>17</td>\n",
       "      <td>59758</td>\n",
       "    </tr>\n",
       "    <tr>\n",
       "      <th>175</th>\n",
       "      <td>2019-08-02</td>\n",
       "      <td>A</td>\n",
       "      <td>42</td>\n",
       "      <td>36</td>\n",
       "      <td>234381</td>\n",
       "    </tr>\n",
       "    <tr>\n",
       "      <th>173</th>\n",
       "      <td>2019-08-02</td>\n",
       "      <td>B</td>\n",
       "      <td>40</td>\n",
       "      <td>39</td>\n",
       "      <td>221801</td>\n",
       "    </tr>\n",
       "    <tr>\n",
       "      <th>291</th>\n",
       "      <td>2019-08-03</td>\n",
       "      <td>A</td>\n",
       "      <td>66</td>\n",
       "      <td>60</td>\n",
       "      <td>346854</td>\n",
       "    </tr>\n",
       "  </tbody>\n",
       "</table>\n",
       "</div>"
      ],
      "text/plain": [
       "          date group  transactionId  visitorId  revenue\n",
       "55  2019-08-01     A             23         19   142779\n",
       "66  2019-08-01     B             17         17    59758\n",
       "175 2019-08-02     A             42         36   234381\n",
       "173 2019-08-02     B             40         39   221801\n",
       "291 2019-08-03     A             66         60   346854"
      ]
     },
     "execution_count": 14,
     "metadata": {},
     "output_type": "execute_result"
    }
   ],
   "source": [
    "# создадим массив уникальных пар значений дат и групп теста\n",
    "\n",
    "datesGroups = orders[['date', 'group']].drop_duplicates()\n",
    "\n",
    "# соберём агрегированные кумулятивные по дням данные о заказах\n",
    "\n",
    "ordersAggregated = (datesGroups\n",
    "                    .apply(lambda x: orders[(orders['date'] <= x['date']) & (orders['group'] == x['group'])]\n",
    "                        .agg(\n",
    "                            {'date':'max', \n",
    "                             'group':'max', \n",
    "                             'transactionId': pd.Series.nunique, \n",
    "                             'visitorId': pd.Series.nunique, \n",
    "                             'revenue':'sum'}), axis=1)\n",
    "                    .sort_values(by=['date','group']) \n",
    "                   )\n",
    "ordersAggregated.head(5)"
   ]
  },
  {
   "cell_type": "code",
   "execution_count": 15,
   "metadata": {},
   "outputs": [
    {
     "data": {
      "text/html": [
       "<div>\n",
       "<style scoped>\n",
       "    .dataframe tbody tr th:only-of-type {\n",
       "        vertical-align: middle;\n",
       "    }\n",
       "\n",
       "    .dataframe tbody tr th {\n",
       "        vertical-align: top;\n",
       "    }\n",
       "\n",
       "    .dataframe thead th {\n",
       "        text-align: right;\n",
       "    }\n",
       "</style>\n",
       "<table border=\"1\" class=\"dataframe\">\n",
       "  <thead>\n",
       "    <tr style=\"text-align: right;\">\n",
       "      <th></th>\n",
       "      <th>date</th>\n",
       "      <th>group</th>\n",
       "      <th>visitors</th>\n",
       "    </tr>\n",
       "  </thead>\n",
       "  <tbody>\n",
       "    <tr>\n",
       "      <th>55</th>\n",
       "      <td>2019-08-01</td>\n",
       "      <td>A</td>\n",
       "      <td>719</td>\n",
       "    </tr>\n",
       "    <tr>\n",
       "      <th>66</th>\n",
       "      <td>2019-08-01</td>\n",
       "      <td>B</td>\n",
       "      <td>713</td>\n",
       "    </tr>\n",
       "    <tr>\n",
       "      <th>175</th>\n",
       "      <td>2019-08-02</td>\n",
       "      <td>A</td>\n",
       "      <td>1338</td>\n",
       "    </tr>\n",
       "    <tr>\n",
       "      <th>173</th>\n",
       "      <td>2019-08-02</td>\n",
       "      <td>B</td>\n",
       "      <td>1294</td>\n",
       "    </tr>\n",
       "    <tr>\n",
       "      <th>291</th>\n",
       "      <td>2019-08-03</td>\n",
       "      <td>A</td>\n",
       "      <td>1845</td>\n",
       "    </tr>\n",
       "  </tbody>\n",
       "</table>\n",
       "</div>"
      ],
      "text/plain": [
       "          date group  visitors\n",
       "55  2019-08-01     A       719\n",
       "66  2019-08-01     B       713\n",
       "175 2019-08-02     A      1338\n",
       "173 2019-08-02     B      1294\n",
       "291 2019-08-03     A      1845"
      ]
     },
     "execution_count": 15,
     "metadata": {},
     "output_type": "execute_result"
    }
   ],
   "source": [
    "# соберём агрегированные кумулятивные по дням данные о посетителях\n",
    "\n",
    "visitorsAggregated = (datesGroups\n",
    "                      .apply(lambda x: visitors[(visitors['date'] <= x['date']) & (visitors['group'] == x['group'])]\n",
    "                          .agg({'date' : 'max', 'group' : 'max', 'visitors' : 'sum'}), axis=1)\n",
    "                      .sort_values(by=['date','group'])\n",
    "                     )\n",
    "visitorsAggregated.head(5)"
   ]
  },
  {
   "cell_type": "code",
   "execution_count": 16,
   "metadata": {},
   "outputs": [
    {
     "data": {
      "text/html": [
       "<div>\n",
       "<style scoped>\n",
       "    .dataframe tbody tr th:only-of-type {\n",
       "        vertical-align: middle;\n",
       "    }\n",
       "\n",
       "    .dataframe tbody tr th {\n",
       "        vertical-align: top;\n",
       "    }\n",
       "\n",
       "    .dataframe thead th {\n",
       "        text-align: right;\n",
       "    }\n",
       "</style>\n",
       "<table border=\"1\" class=\"dataframe\">\n",
       "  <thead>\n",
       "    <tr style=\"text-align: right;\">\n",
       "      <th></th>\n",
       "      <th>date</th>\n",
       "      <th>group</th>\n",
       "      <th>orders</th>\n",
       "      <th>buyers</th>\n",
       "      <th>revenue</th>\n",
       "      <th>visitors</th>\n",
       "    </tr>\n",
       "  </thead>\n",
       "  <tbody>\n",
       "    <tr>\n",
       "      <th>0</th>\n",
       "      <td>2019-08-01</td>\n",
       "      <td>A</td>\n",
       "      <td>23</td>\n",
       "      <td>19</td>\n",
       "      <td>142779</td>\n",
       "      <td>719</td>\n",
       "    </tr>\n",
       "    <tr>\n",
       "      <th>1</th>\n",
       "      <td>2019-08-01</td>\n",
       "      <td>B</td>\n",
       "      <td>17</td>\n",
       "      <td>17</td>\n",
       "      <td>59758</td>\n",
       "      <td>713</td>\n",
       "    </tr>\n",
       "    <tr>\n",
       "      <th>2</th>\n",
       "      <td>2019-08-02</td>\n",
       "      <td>A</td>\n",
       "      <td>42</td>\n",
       "      <td>36</td>\n",
       "      <td>234381</td>\n",
       "      <td>1338</td>\n",
       "    </tr>\n",
       "    <tr>\n",
       "      <th>3</th>\n",
       "      <td>2019-08-02</td>\n",
       "      <td>B</td>\n",
       "      <td>40</td>\n",
       "      <td>39</td>\n",
       "      <td>221801</td>\n",
       "      <td>1294</td>\n",
       "    </tr>\n",
       "    <tr>\n",
       "      <th>4</th>\n",
       "      <td>2019-08-03</td>\n",
       "      <td>A</td>\n",
       "      <td>66</td>\n",
       "      <td>60</td>\n",
       "      <td>346854</td>\n",
       "      <td>1845</td>\n",
       "    </tr>\n",
       "  </tbody>\n",
       "</table>\n",
       "</div>"
      ],
      "text/plain": [
       "        date group  orders  buyers  revenue  visitors\n",
       "0 2019-08-01     A      23      19   142779       719\n",
       "1 2019-08-01     B      17      17    59758       713\n",
       "2 2019-08-02     A      42      36   234381      1338\n",
       "3 2019-08-02     B      40      39   221801      1294\n",
       "4 2019-08-03     A      66      60   346854      1845"
      ]
     },
     "execution_count": 16,
     "metadata": {},
     "output_type": "execute_result"
    }
   ],
   "source": [
    "# объединим кумулятивные данные в одной таблице\n",
    "\n",
    "cumulativeData = ordersAggregated.merge(visitorsAggregated, left_on=['date', 'group'], right_on=['date', 'group'])\n",
    "cumulativeData.columns = ['date', 'group', 'orders', 'buyers', 'revenue', 'visitors']\n",
    "\n",
    "cumulativeData.head(5)"
   ]
  },
  {
   "cell_type": "code",
   "execution_count": 17,
   "metadata": {},
   "outputs": [
    {
     "data": {
      "text/plain": [
       "True"
      ]
     },
     "execution_count": 17,
     "metadata": {},
     "output_type": "execute_result"
    }
   ],
   "source": [
    "# проверим, совпадает ли минимальная дата в cumulativeData с минимальной датой в исходных данных\n",
    "\n",
    "cumulativeData['date'].min() == orders['date'].min() == visitors['date'].min()"
   ]
  },
  {
   "cell_type": "code",
   "execution_count": 18,
   "metadata": {},
   "outputs": [
    {
     "data": {
      "text/plain": [
       "True"
      ]
     },
     "execution_count": 18,
     "metadata": {},
     "output_type": "execute_result"
    }
   ],
   "source": [
    "# проверим, совпадает ли максимальная дата в cumulativeData с максимальной датой в исходных данных\n",
    "\n",
    "cumulativeData['date'].max() == orders['date'].max() == visitors['date'].max()"
   ]
  },
  {
   "cell_type": "markdown",
   "metadata": {},
   "source": [
    "Минимальная и максимальная даты в cumulativeData совпадают с минимальной и максимальной датой в исходных данных, значит датафрейм cummulativeData был создан корректно."
   ]
  },
  {
   "cell_type": "code",
   "execution_count": 19,
   "metadata": {},
   "outputs": [],
   "source": [
    "# датафрейм с кумулятивным количеством заказов и кумулятивной выручкой по дням в группе А\n",
    "\n",
    "cumulativeRevenueA = cumulativeData[cumulativeData['group']=='A'][['date', 'revenue', 'orders']]\n",
    "\n",
    "# датафрейм с кумулятивным количеством заказов и кумулятивной выручкой по дням в группе B \n",
    "\n",
    "cumulativeRevenueB =cumulativeData[cumulativeData['group']=='B'][['date', 'revenue', 'orders']]"
   ]
  },
  {
   "cell_type": "code",
   "execution_count": 20,
   "metadata": {},
   "outputs": [
    {
     "data": {
      "image/png": "[encoded data removed]",
      "text/plain": [
       "<Figure size 936x360 with 1 Axes>"
      ]
     },
     "metadata": {
      "needs_background": "light"
     },
     "output_type": "display_data"
    }
   ],
   "source": [
    "plt.figure(figsize=(13,5))\n",
    "\n",
    "# строим график выручки группы А\n",
    "\n",
    "plt.plot(cumulativeRevenueA['date'], cumulativeRevenueA['revenue'], label='A', color = 'darkblue')\n",
    "\n",
    "# строим график выручки группы B\n",
    "\n",
    "plt.plot(cumulativeRevenueB['date'], cumulativeRevenueB['revenue'], label='B', color = 'red')\n",
    "\n",
    "plt.grid()\n",
    "plt.ylabel('Выручка')\n",
    "plt.xlabel('Дата')\n",
    "plt.title('График кумулятивной выручки по группам')\n",
    "plt.legend();\n"
   ]
  },
  {
   "cell_type": "markdown",
   "metadata": {},
   "source": [
    "***Вывод:***\n",
    "<div style=\"border:solid green 1px; padding: 20px\">\n",
    "\n",
    "Из графика кумулятивной выручки по сырым данным видим, что А/В-тест длился весь календарный месяц - август 2019г. Причем в первой половине месяца выручка по группам росла примерно равными темпами, и группа В показывала незначительно лучшие результаты. Однако после 17 августа в группе В наблюдается резкий скачок вверх, эта группа существенно оторвалась от А и далее до конца теста темпы прироста выручки практически одинаковы.   \n",
    "Это может быть и всплеск числа заказов, и появившиеся дорогие заказы в выборке, что и исказило график.  \n",
    "Принимать решение по этой метрике рано, т.к. требуется дополнительнй анализ выбросов, которые искажают результаты.  \n",
    "    \n",
    "</div>"
   ]
  },
  {
   "cell_type": "markdown",
   "metadata": {},
   "source": [
    "**Построим график кумулятивного среднего чека по группам**"
   ]
  },
  {
   "cell_type": "code",
   "execution_count": 21,
   "metadata": {},
   "outputs": [
    {
     "data": {
      "image/png": "[encoded data removed]",
      "text/plain": [
       "<Figure size 936x360 with 1 Axes>"
      ]
     },
     "metadata": {
      "needs_background": "light"
     },
     "output_type": "display_data"
    }
   ],
   "source": [
    "# для этого разделим кумулятивную выручку на кумулятивное число заказов\n",
    "\n",
    "plt.figure(figsize=(13,5))\n",
    "\n",
    "plt.plot(cumulativeRevenueA['date'], cumulativeRevenueA['revenue']/cumulativeRevenueA['orders'], label='A', color = 'darkblue')\n",
    "plt.plot(cumulativeRevenueB['date'], cumulativeRevenueB['revenue']/cumulativeRevenueB['orders'], label='B', color = 'red')\n",
    "\n",
    "plt.grid()\n",
    "plt.ylabel('Выручка')\n",
    "plt.xlabel('Дата')\n",
    "plt.title('График кумулятивного среднего чека по группам')\n",
    "plt.legend();\n"
   ]
  },
  {
   "cell_type": "markdown",
   "metadata": {},
   "source": [
    "***Вывод:***\n",
    "<div style=\"border:solid green 1px; padding: 20px\">\n",
    "\n",
    "Средний чек примерно до 17-18 числа скачет и потом стабилизируется, однако здесь опять виднен гигантский скачок в группе В. Вероятно, в это время имели место несколько аномально крупных заказов, что ведет к невозможности сделать предположения о разнице в средних чеках по группам.\n",
    "    \n",
    "</div>"
   ]
  },
  {
   "cell_type": "markdown",
   "metadata": {},
   "source": [
    "**Построим график относительного изменения кумулятивного среднего чека группы B к группе A**"
   ]
  },
  {
   "cell_type": "code",
   "execution_count": 22,
   "metadata": {},
   "outputs": [
    {
     "data": {
      "image/png": "[encoded data removed]",
      "text/plain": [
       "<Figure size 936x360 with 1 Axes>"
      ]
     },
     "metadata": {
      "needs_background": "light"
     },
     "output_type": "display_data"
    }
   ],
   "source": [
    "plt.figure(figsize=(13,5))\n",
    "\n",
    "# для этого собираем данные в одном датафрейме\n",
    "\n",
    "mergedCumulativeRevenue = cumulativeRevenueA.merge(\n",
    "    cumulativeRevenueB, left_on='date', right_on='date', how='left', suffixes=['A', 'B'])\n",
    "\n",
    "# cтроим отношение средних чеков\n",
    "\n",
    "plt.plot(mergedCumulativeRevenue['date'], (mergedCumulativeRevenue['revenueB'] / mergedCumulativeRevenue['ordersB']\n",
    "                                          ) / (mergedCumulativeRevenue['revenueA'] / mergedCumulativeRevenue['ordersA'])-1, color = 'darkblue')\n",
    "\n",
    "# добавляем ось X\n",
    "\n",
    "plt.axhline(y=0, color='red', linestyle='--')\n",
    "plt.grid()\n",
    "plt.ylabel('Относительное различие')\n",
    "plt.xlabel('Дата')\n",
    "plt.title('График относительного изменения кумулятивного среднего чека группы B к группе A');\n"
   ]
  },
  {
   "cell_type": "markdown",
   "metadata": {},
   "source": [
    "***Вывод:***\n",
    "<div style=\"border:solid green 1px; padding: 20px\">\n",
    "    \n",
    "Отношение кумулятивного среднего чека группы А к группе В показывает, что данное соотношение за исследуемый период имело два пика, когда средний чек группы B значительно превосходил этот показатель группы А, но быстро снижался после пика.   \n",
    "Вероятно, такие изменения связаны с наличием выбросов в выборке.  \n",
    "</div>"
   ]
  },
  {
   "cell_type": "markdown",
   "metadata": {},
   "source": [
    "**Построим график кумулятивного среднего количества заказов по группам**"
   ]
  },
  {
   "cell_type": "code",
   "execution_count": 23,
   "metadata": {},
   "outputs": [
    {
     "data": {
      "image/png": "[encoded data removed]",
      "text/plain": [
       "<Figure size 936x360 with 1 Axes>"
      ]
     },
     "metadata": {
      "needs_background": "light"
     },
     "output_type": "display_data"
    }
   ],
   "source": [
    "# считаем кумулятивную конверсию\n",
    "\n",
    "cumulativeData['conversion'] = cumulativeData['orders'] / cumulativeData['visitors']\n",
    "\n",
    "# отделяем данные по группе A\n",
    "\n",
    "cumulativeDataA = cumulativeData[cumulativeData['group']=='A']\n",
    "\n",
    "# отделяем данные по группе B\n",
    "\n",
    "cumulativeDataB = cumulativeData[cumulativeData['group']=='B']\n",
    "\n",
    "# строим графики\n",
    "\n",
    "plt.figure(figsize=(13,5))\n",
    "plt.plot(cumulativeDataA['date'], cumulativeDataA['conversion'], label='A', color = 'darkblue')\n",
    "plt.plot(cumulativeDataB['date'], cumulativeDataB['conversion'], label='B', color = 'red')\n",
    "plt.legend()\n",
    "plt.grid()\n",
    "plt.ylabel('Конверсия')\n",
    "plt.xlabel('Дата')\n",
    "plt.title('График кумулятивного среднего количества заказов по группам');"
   ]
  },
  {
   "cell_type": "markdown",
   "metadata": {},
   "source": [
    "***Вывод:***\n",
    "<div style=\"border:solid green 1px; padding: 20px\">\n",
    "    \n",
    "Изначально в первую неделю теста в обеих группах происходит скачок конверсии, далее группы значительно расходятся.   \n",
    "В группе А просиходит снижение конверсии с 0.036 до уровня 0.030, вокруг которого значение и находится на протяжении всего теста.  \n",
    "А вот в группе B после скачка до 0.032 происходит резкое снижение значения конверсии до 0.027 с последующим постепенным ростом до 0.032 и относительно стабильным средним значением конверсии в размере 0.030.\n",
    "\n",
    "В итоге сначала конверсии колебались, но довольно быстро выровнялись и результат группы В оказался стабильно лучше, чем в группе А.  \n",
    "</div>"
   ]
  },
  {
   "cell_type": "markdown",
   "metadata": {},
   "source": [
    "**Построим график относительного изменения кумулятивного среднего количества заказов группы B к группе A**"
   ]
  },
  {
   "cell_type": "code",
   "execution_count": 24,
   "metadata": {},
   "outputs": [
    {
     "data": {
      "image/png": "[encoded data removed]",
      "text/plain": [
       "<Figure size 936x360 with 1 Axes>"
      ]
     },
     "metadata": {
      "needs_background": "light"
     },
     "output_type": "display_data"
    }
   ],
   "source": [
    "plt.figure(figsize=(13,5))\n",
    "\n",
    "# собираем данные в один датафрейм\n",
    "\n",
    "mergedCumulativeConversions = cumulativeDataA[['date','conversion']].merge(\n",
    "    cumulativeDataB[['date','conversion']], left_on='date', right_on='date', how='left', suffixes=['A', 'B'])\n",
    "\n",
    "# строим график\n",
    "\n",
    "plt.plot(mergedCumulativeConversions['date'], mergedCumulativeConversions['conversionB']\n",
    "         /mergedCumulativeConversions['conversionA']-1,\n",
    "         label=\"Относительный прирост конверсии группы B относительно группы A\", color = 'darkblue')\n",
    "plt.legend()\n",
    "plt.axhline(y=0, color='black', linestyle='--')\n",
    "plt.axhline(y=-0.1, color='red', linestyle='--')\n",
    "plt.grid()\n",
    "plt.ylabel('Относительное различие')\n",
    "plt.xlabel('Дата')\n",
    "plt.title('График относительного изменения кумулятивного среднего количества заказов группы B к группе A');\n"
   ]
  },
  {
   "cell_type": "markdown",
   "metadata": {},
   "source": [
    "***Вывод:***\n",
    "<div style=\"border:solid green 1px; padding: 20px\">\n",
    "    \n",
    "В начале теста группа B сильно отставала, виден резкий скачок с первого дня. Но потом совершили хороший рывок и сейчас держится примерно на одном уровне, понемногу снижаясь.   \n",
    "На графике есть скачки, которые могут говорить о наличии выбросов в данных.    \n",
    "</div>"
   ]
  },
  {
   "cell_type": "markdown",
   "metadata": {},
   "source": [
    "**Построим точечный график количества заказов по пользователям**"
   ]
  },
  {
   "cell_type": "code",
   "execution_count": 25,
   "metadata": {},
   "outputs": [
    {
     "data": {
      "text/plain": [
       "count    973.000000\n",
       "mean       1.044193\n",
       "std        0.238090\n",
       "min        1.000000\n",
       "25%        1.000000\n",
       "50%        1.000000\n",
       "75%        1.000000\n",
       "max        3.000000\n",
       "Name: orders, dtype: float64"
      ]
     },
     "metadata": {},
     "output_type": "display_data"
    },
    {
     "data": {
      "image/png": "[encoded data removed]",
      "text/plain": [
       "<Figure size 1080x360 with 1 Axes>"
      ]
     },
     "metadata": {
      "needs_background": "light"
     },
     "output_type": "display_data"
    }
   ],
   "source": [
    "# Датафрейм с количеством заказов по пользователям:\n",
    "ordersByUsers = orders.drop(['group', 'revenue', 'date'], axis=1).groupby('visitorId', as_index=False).agg(\n",
    "    {'transactionId' : pd.Series.nunique})\n",
    "\n",
    "ordersByUsers.columns = ['visitorId','orders']\n",
    "\n",
    "display(ordersByUsers['orders'].describe())\n",
    "\n",
    "plt.figure(figsize=(15,5))\n",
    "plt.hist(ordersByUsers['orders'], color = 'darkblue') \n",
    "plt.title('Количество заказов по пользователям', fontsize=12, fontweight='bold')\n",
    "plt.xlabel('Заказы', fontsize=12)\n",
    "plt.ylabel('Количество пользователей', fontsize=12)\n",
    "plt.grid()\n",
    "plt.show()"
   ]
  },
  {
   "cell_type": "code",
   "execution_count": 26,
   "metadata": {},
   "outputs": [
    {
     "data": {
      "image/png": "[encoded data removed]",
      "text/plain": [
       "<Figure size 1080x360 with 1 Axes>"
      ]
     },
     "metadata": {
      "needs_background": "light"
     },
     "output_type": "display_data"
    }
   ],
   "source": [
    "# построим точечную диаграмму числа заказов на одного пользователя\n",
    "\n",
    "x_values = pd.Series(range(0,len(ordersByUsers)))\n",
    "\n",
    "plt.figure(figsize=(15,5))\n",
    "plt.scatter(x_values, ordersByUsers['orders'], color = 'darkblue')\n",
    "plt.title('Количество заказов по пользователям', fontsize=12, fontweight='bold')\n",
    "plt.grid()\n",
    "plt.show()"
   ]
  },
  {
   "cell_type": "markdown",
   "metadata": {},
   "source": [
    "***Вывод:***\n",
    "<div style=\"border:solid green 1px; padding: 20px\">\n",
    "    \n",
    "Большинство пользователей делали заказ один раз, немного и тех, кто делал два заказа. И совсем мало кто заказал три.    \n",
    "</div>"
   ]
  },
  {
   "cell_type": "markdown",
   "metadata": {},
   "source": [
    "**Посчитаем 95-й и 99-й перцентили количества заказов на пользователя**"
   ]
  },
  {
   "cell_type": "markdown",
   "metadata": {},
   "source": [
    "Выберем границу для определения аномальных пользователей"
   ]
  },
  {
   "cell_type": "code",
   "execution_count": 27,
   "metadata": {},
   "outputs": [
    {
     "name": "stdout",
     "output_type": "stream",
     "text": [
      "[1. 2.]\n"
     ]
    }
   ],
   "source": [
    "# выведем значения 95-го и 99-го перцентилей\n",
    "\n",
    "print(np.percentile(ordersByUsers['orders'], [95, 99]))"
   ]
  },
  {
   "cell_type": "markdown",
   "metadata": {},
   "source": [
    "***Вывод:***\n",
    "<div style=\"border:solid green 1px; padding: 20px\">\n",
    "    \n",
    "Не более 5% пользователей оформляли больше одного заказа и только 1% пользователей совершили больше 2 заказов. \n",
    "   \n",
    "</div>"
   ]
  },
  {
   "cell_type": "markdown",
   "metadata": {},
   "source": [
    "**Построим точечный график стоимостей заказов**"
   ]
  },
  {
   "cell_type": "code",
   "execution_count": 28,
   "metadata": {},
   "outputs": [
    {
     "data": {
      "text/plain": [
       "count    1.016000e+03\n",
       "mean     8.300815e+03\n",
       "std      4.212199e+04\n",
       "min      5.000000e+01\n",
       "25%      1.190000e+03\n",
       "50%      2.955000e+03\n",
       "75%      8.134250e+03\n",
       "max      1.294500e+06\n",
       "Name: revenue, dtype: float64"
      ]
     },
     "metadata": {},
     "output_type": "display_data"
    },
    {
     "data": {
      "image/png": "[encoded data removed]",
      "text/plain": [
       "<Figure size 1080x360 with 1 Axes>"
      ]
     },
     "metadata": {
      "needs_background": "light"
     },
     "output_type": "display_data"
    }
   ],
   "source": [
    "display(orders['revenue'].describe())\n",
    "\n",
    "x_values = pd.Series(range(0,len(orders['revenue'])))\n",
    "plt.figure(figsize=(15,5))\n",
    "plt.scatter(x_values, orders['revenue'], color = 'darkblue') \n",
    "plt.title('Точечный график стоимости заказов', fontsize=12, fontweight='bold')\n",
    "plt.grid()\n",
    "plt.show()\n"
   ]
  },
  {
   "cell_type": "code",
   "execution_count": 29,
   "metadata": {},
   "outputs": [
    {
     "data": {
      "image/png": "[encoded data removed]",
      "text/plain": [
       "<Figure size 1080x360 with 1 Axes>"
      ]
     },
     "metadata": {
      "needs_background": "light"
     },
     "output_type": "display_data"
    }
   ],
   "source": [
    "# построим более наглядный график, для это уберем явные выбросы с 'revenue' большим 150 тыс\n",
    "\n",
    "x_values = pd.Series(range(0,len(orders[orders['revenue'] <= 150000]['revenue'])))\n",
    "plt.figure(figsize=(15,5))\n",
    "plt.scatter(x_values, orders[orders['revenue']<=150000]['revenue'], color = 'darkblue') \n",
    "plt.title('Точечный график стоимости заказов', fontsize=12, fontweight='bold')\n",
    "plt.grid()\n",
    "plt.show()"
   ]
  },
  {
   "cell_type": "markdown",
   "metadata": {},
   "source": [
    "***Вывод:***\n",
    "<div style=\"border:solid green 1px; padding: 20px\">\n",
    "    \n",
    "На графике видим заказ на 1,3 млн и на 200 тысяч, которые явно выбиваются из общего порядка. Посчитаем перцентили для отсева.\n",
    "\n",
    "На втором графике без двух самых больших выбросов видим, что основная масса заказов находится в пределах 10 000 руб.\n",
    "   \n",
    "</div>"
   ]
  },
  {
   "cell_type": "markdown",
   "metadata": {},
   "source": [
    "**Посчитаем 95-й и 99-й перцентили стоимости заказов**"
   ]
  },
  {
   "cell_type": "code",
   "execution_count": 30,
   "metadata": {},
   "outputs": [
    {
     "name": "stdout",
     "output_type": "stream",
     "text": [
      "[26785. 53904.]\n"
     ]
    }
   ],
   "source": [
    "# выведем значения 95-го и 99-го перцентилей\n",
    "\n",
    "print(np.percentile(orders['revenue'], [95, 99]))"
   ]
  },
  {
   "cell_type": "markdown",
   "metadata": {},
   "source": [
    "***Вывод:***\n",
    "<div style=\"border:solid green 1px; padding: 20px\">\n",
    "    \n",
    "Выводы: Не более 5% заказов дороже 26 785 рублей и не более 1% дороже 53 904 рубля. Так как принято отсеивать от 1% до 5% наблюдений с крайними значениями, определим границу для определения аномальных заказов на отметке 26 785 руб.    \n",
    "</div>"
   ]
  },
  {
   "cell_type": "markdown",
   "metadata": {},
   "source": [
    "**Посчитаем статистическую значимость различий в среднем количестве заказов между группами по «сырым» данным**"
   ]
  },
  {
   "cell_type": "markdown",
   "metadata": {},
   "source": [
    "**Сформулируем гипотезы.**\n",
    "\n",
    "**H0:** различий в среднем количестве заказов между группами нет.  \n",
    "**H1:** различия в среднем между группами есть.  \n",
    "  \n",
    "Критический уровень значимости (alpha) - 0.05.  \n",
    "\n",
    "**Метод проверки гипотез** - это непараметрический метод Манна-Уитни. \n",
    "Выбираем его потому, что этот метод работает с рангами — номерами значений в упорядоченном ряду — никак не учитывая сами значения. К этому методу прибегают тогда, когда работа с самими значениями невозможна из-за выбросов, сильно сдвигающих параметрические результаты. У нас как раз есть такие выбросы."
   ]
  },
  {
   "cell_type": "code",
   "execution_count": 31,
   "metadata": {},
   "outputs": [
    {
     "data": {
      "text/html": [
       "<div>\n",
       "<style scoped>\n",
       "    .dataframe tbody tr th:only-of-type {\n",
       "        vertical-align: middle;\n",
       "    }\n",
       "\n",
       "    .dataframe tbody tr th {\n",
       "        vertical-align: top;\n",
       "    }\n",
       "\n",
       "    .dataframe thead th {\n",
       "        text-align: right;\n",
       "    }\n",
       "</style>\n",
       "<table border=\"1\" class=\"dataframe\">\n",
       "  <thead>\n",
       "    <tr style=\"text-align: right;\">\n",
       "      <th></th>\n",
       "      <th>date</th>\n",
       "      <th>ordersPerDateA</th>\n",
       "      <th>revenuePerDateA</th>\n",
       "      <th>ordersPerDateB</th>\n",
       "      <th>revenuePerDateB</th>\n",
       "      <th>ordersCummulativeA</th>\n",
       "      <th>revenueCummulativeA</th>\n",
       "      <th>ordersCummulativeB</th>\n",
       "      <th>revenueCummulativeB</th>\n",
       "      <th>visitorsPerDateA</th>\n",
       "      <th>visitorsPerDateB</th>\n",
       "      <th>visitorsCummulativeA</th>\n",
       "      <th>visitorsCummulativeB</th>\n",
       "    </tr>\n",
       "  </thead>\n",
       "  <tbody>\n",
       "    <tr>\n",
       "      <th>0</th>\n",
       "      <td>2019-08-01</td>\n",
       "      <td>23</td>\n",
       "      <td>142779</td>\n",
       "      <td>17</td>\n",
       "      <td>59758</td>\n",
       "      <td>23</td>\n",
       "      <td>142779</td>\n",
       "      <td>17</td>\n",
       "      <td>59758</td>\n",
       "      <td>719</td>\n",
       "      <td>713</td>\n",
       "      <td>719</td>\n",
       "      <td>713</td>\n",
       "    </tr>\n",
       "    <tr>\n",
       "      <th>1</th>\n",
       "      <td>2019-08-02</td>\n",
       "      <td>19</td>\n",
       "      <td>91602</td>\n",
       "      <td>23</td>\n",
       "      <td>162043</td>\n",
       "      <td>42</td>\n",
       "      <td>234381</td>\n",
       "      <td>40</td>\n",
       "      <td>221801</td>\n",
       "      <td>619</td>\n",
       "      <td>581</td>\n",
       "      <td>1338</td>\n",
       "      <td>1294</td>\n",
       "    </tr>\n",
       "    <tr>\n",
       "      <th>2</th>\n",
       "      <td>2019-08-03</td>\n",
       "      <td>24</td>\n",
       "      <td>112473</td>\n",
       "      <td>14</td>\n",
       "      <td>67049</td>\n",
       "      <td>66</td>\n",
       "      <td>346854</td>\n",
       "      <td>54</td>\n",
       "      <td>288850</td>\n",
       "      <td>507</td>\n",
       "      <td>509</td>\n",
       "      <td>1845</td>\n",
       "      <td>1803</td>\n",
       "    </tr>\n",
       "    <tr>\n",
       "      <th>3</th>\n",
       "      <td>2019-08-04</td>\n",
       "      <td>11</td>\n",
       "      <td>41176</td>\n",
       "      <td>14</td>\n",
       "      <td>96890</td>\n",
       "      <td>77</td>\n",
       "      <td>388030</td>\n",
       "      <td>68</td>\n",
       "      <td>385740</td>\n",
       "      <td>717</td>\n",
       "      <td>770</td>\n",
       "      <td>2562</td>\n",
       "      <td>2573</td>\n",
       "    </tr>\n",
       "    <tr>\n",
       "      <th>4</th>\n",
       "      <td>2019-08-05</td>\n",
       "      <td>22</td>\n",
       "      <td>86383</td>\n",
       "      <td>21</td>\n",
       "      <td>89908</td>\n",
       "      <td>99</td>\n",
       "      <td>474413</td>\n",
       "      <td>89</td>\n",
       "      <td>475648</td>\n",
       "      <td>756</td>\n",
       "      <td>707</td>\n",
       "      <td>3318</td>\n",
       "      <td>3280</td>\n",
       "    </tr>\n",
       "  </tbody>\n",
       "</table>\n",
       "</div>"
      ],
      "text/plain": [
       "        date  ordersPerDateA  revenuePerDateA  ordersPerDateB  \\\n",
       "0 2019-08-01              23           142779              17   \n",
       "1 2019-08-02              19            91602              23   \n",
       "2 2019-08-03              24           112473              14   \n",
       "3 2019-08-04              11            41176              14   \n",
       "4 2019-08-05              22            86383              21   \n",
       "\n",
       "   revenuePerDateB  ordersCummulativeA  revenueCummulativeA  \\\n",
       "0            59758                  23               142779   \n",
       "1           162043                  42               234381   \n",
       "2            67049                  66               346854   \n",
       "3            96890                  77               388030   \n",
       "4            89908                  99               474413   \n",
       "\n",
       "   ordersCummulativeB  revenueCummulativeB  visitorsPerDateA  \\\n",
       "0                  17                59758               719   \n",
       "1                  40               221801               619   \n",
       "2                  54               288850               507   \n",
       "3                  68               385740               717   \n",
       "4                  89               475648               756   \n",
       "\n",
       "   visitorsPerDateB  visitorsCummulativeA  visitorsCummulativeB  \n",
       "0               713                   719                   713  \n",
       "1               581                  1338                  1294  \n",
       "2               509                  1845                  1803  \n",
       "3               770                  2562                  2573  \n",
       "4               707                  3318                  3280  "
      ]
     },
     "metadata": {},
     "output_type": "display_data"
    }
   ],
   "source": [
    "# подготовим датафрейм с фактическими и кумулятивными данными по дням\n",
    "\n",
    "visitorsADaily = visitors[visitors['group']=='A'][['date', 'visitors']]\n",
    "visitorsADaily.columns = ['date', 'visitorsPerDateA']\n",
    "\n",
    "visitorsACummulative = (visitorsADaily\n",
    "                        .apply(lambda x: visitorsADaily[visitorsADaily['date'] <= x['date']]\n",
    "                               .agg({'date':'max', 'visitorsPerDateA':'sum'}), axis=1)\n",
    "                       )\n",
    "visitorsACummulative.columns = ['date', 'visitorsCummulativeA']\n",
    "\n",
    "visitorsBDaily = visitors[visitors['group']=='B'][['date', 'visitors']]\n",
    "visitorsBDaily.columns = ['date', 'visitorsPerDateB']\n",
    "\n",
    "visitorsBCummulative = (visitorsBDaily\n",
    "                        .apply(lambda x: visitorsBDaily[visitorsBDaily['date'] <= x['date']]\n",
    "                               .agg({'date':'max', 'visitorsPerDateB':'sum'}), axis=1)\n",
    "                       )\n",
    "visitorsBCummulative.columns = ['date', 'visitorsCummulativeB']\n",
    "\n",
    "ordersADaily = (orders[orders['group']=='A'][['date', 'transactionId', 'visitorId', 'revenue']]\n",
    "                .groupby('date', as_index=False)\n",
    "                .agg({'transactionId':pd.Series.nunique, 'revenue':'sum'})\n",
    "               )\n",
    "ordersADaily.columns = ['date', 'ordersPerDateA', 'revenuePerDateA']\n",
    "\n",
    "ordersACummulative = (ordersADaily\n",
    "                      .apply(lambda x:ordersADaily[ordersADaily['date'] <= x['date']]\n",
    "                             .agg({\n",
    "                                    'date':'max',\n",
    "                                    'ordersPerDateA':'sum',\n",
    "                                    'revenuePerDateA':'sum'}), axis=1)\n",
    "                      .sort_values(by=['date'])\n",
    "                     )\n",
    "ordersACummulative.columns = ['date', 'ordersCummulativeA', 'revenueCummulativeA']\n",
    "\n",
    "ordersBDaily = (orders[orders['group']=='B'][['date', 'transactionId', 'visitorId', 'revenue']]\n",
    "                .groupby('date', as_index=False)\n",
    "                .agg({'transactionId':pd.Series.nunique, 'revenue':'sum'})\n",
    "               )\n",
    "ordersBDaily.columns = ['date', 'ordersPerDateB', 'revenuePerDateB']\n",
    "\n",
    "ordersBCummulative = (ordersBDaily\n",
    "                      .apply(lambda x: ordersBDaily[ordersBDaily['date'] <= x['date']]\n",
    "                             .agg({\n",
    "                                    'date':'max',\n",
    "                                    'ordersPerDateB':'sum',\n",
    "                                    'revenuePerDateB' : 'sum'}), axis=1)\n",
    "                      .sort_values(by=['date'])\n",
    "                     )\n",
    "ordersBCummulative.columns = ['date', 'ordersCummulativeB', 'revenueCummulativeB']\n",
    "\n",
    "data = (ordersADaily\n",
    "        .merge(ordersBDaily, left_on='date', right_on='date', how='left')\n",
    "        .merge(ordersACummulative, left_on='date', right_on='date', how='left')\n",
    "        .merge(ordersBCummulative, left_on='date', right_on='date', how='left')\n",
    "        .merge(visitorsADaily, left_on='date', right_on='date', how='left')\n",
    "        .merge(visitorsBDaily, left_on='date', right_on='date', how='left')\n",
    "        .merge(visitorsACummulative, left_on='date', right_on='date', how='left')\n",
    "        .merge(visitorsBCummulative, left_on='date', right_on='date', how='left')\n",
    "       )\n",
    "\n",
    "display(data.head(5))"
   ]
  },
  {
   "cell_type": "code",
   "execution_count": 32,
   "metadata": {},
   "outputs": [],
   "source": [
    "# создадим для каждой группы датафрейм с количеством заказов на пользователя\n",
    "\n",
    "ordersByUsersA = (\n",
    "    orders[orders['group'] == 'A']\n",
    "    .groupby('visitorId', as_index=False)\n",
    "    .agg({'transactionId': pd.Series.nunique})\n",
    ")\n",
    "ordersByUsersA.columns = ['visitorId', 'orders']\n",
    "\n",
    "ordersByUsersB = (\n",
    "    orders[orders['group'] == 'B']\n",
    "    .groupby('visitorId', as_index=False)\n",
    "    .agg({'transactionId': pd.Series.nunique})\n",
    ")\n",
    "ordersByUsersB.columns = ['visitorId', 'orders']"
   ]
  },
  {
   "cell_type": "markdown",
   "metadata": {},
   "source": [
    "Объявим переменные sampleA и sampleB, в которых пользователям из разных групп будет соответствовать количество заказов.  \n",
    "Тем, кто ничего не заказал, будут соответствовать нули.  \n",
    "Это нужно, чтобы подготовить выборки к проверке критерием Манна-Уитни. "
   ]
  },
  {
   "cell_type": "code",
   "execution_count": 33,
   "metadata": {},
   "outputs": [],
   "source": [
    "# создадим списки с числом заказов каждого пользователя, включая нули\n",
    "\n",
    "sampleA = pd.concat(\n",
    "    [ordersByUsersA['orders'],pd.Series(0, index=np.arange(\n",
    "    data['visitorsPerDateA'].sum() - len(ordersByUsersA['orders'])\n",
    "    ), name='orders')],axis=0\n",
    ")\n",
    "\n",
    "sampleB = pd.concat(\n",
    "    [ordersByUsersB['orders'],pd.Series(0, index=np.arange(\n",
    "    data['visitorsPerDateB'].sum() - len(ordersByUsersB['orders'])\n",
    "    ), name='orders')],axis=0\n",
    ")\n"
   ]
  },
  {
   "cell_type": "markdown",
   "metadata": {},
   "source": [
    "Применим критерий и отформатируем p-value, сократив его вывод до трёх знаков после запятой."
   ]
  },
  {
   "cell_type": "code",
   "execution_count": 34,
   "metadata": {},
   "outputs": [
    {
     "name": "stdout",
     "output_type": "stream",
     "text": [
      "p-value: 0.011\n",
      "Относительный прирост конверсии группы В к конверсии группы А: 0.160\n"
     ]
    }
   ],
   "source": [
    "ordersByUsersA = (\n",
    "    orders[orders['group'] == 'A']\n",
    "    .groupby('visitorId', as_index=False)\n",
    "    .agg({'transactionId': pd.Series.nunique})\n",
    ")\n",
    "ordersByUsersA.columns = ['visitorId', 'orders']\n",
    "\n",
    "ordersByUsersB = (\n",
    "    orders[orders['group'] == 'B']\n",
    "    .groupby('visitorId', as_index=False)\n",
    "    .agg({'transactionId': pd.Series.nunique})\n",
    ")\n",
    "ordersByUsersB.columns = ['visitorId', 'orders']\n",
    "\n",
    "sampleA = pd.concat(\n",
    "    [ordersByUsersA['orders'],pd.Series(0, index=np.arange(\n",
    "    data['visitorsPerDateA'].sum() - len(ordersByUsersA['orders'])\n",
    "    ), name='orders')],axis=0\n",
    ")\n",
    "\n",
    "sampleB = pd.concat(\n",
    "    [ordersByUsersB['orders'],pd.Series(0, index=np.arange(\n",
    "    data['visitorsPerDateB'].sum() - len(ordersByUsersB['orders'])\n",
    "    ), name='orders')],axis=0\n",
    ")\n",
    "\n",
    "print(\"p-value: {0:.3f}\".format(stats.mannwhitneyu(sampleA, sampleB)[1]))\n",
    "\n",
    "print(\"Относительный прирост конверсии группы В к конверсии группы А: {0:.3f}\".format(sampleB.mean() / sampleA.mean()-1))"
   ]
  },
  {
   "cell_type": "markdown",
   "metadata": {},
   "source": [
    "***Вывод:***\n",
    "<div style=\"border:solid green 1px; padding: 20px\">\n",
    "    \n",
    "P-value меньше 0.05. Таким образом, нулевую гипотезу о том, что статистически значимых различий в конверсии между группами нет, отвергаем.\n",
    "Также мы видим, что в конверсии между группами есть статистически значимые различия.\n",
    "Относительный прирост конверсии группы В к конверсии группы А составил 16%.  \n",
    "</div>"
   ]
  },
  {
   "cell_type": "markdown",
   "metadata": {},
   "source": [
    "**Посчитаем статистическую значимость различий в среднем чеке заказа между группами по «сырым» данным**"
   ]
  },
  {
   "cell_type": "markdown",
   "metadata": {},
   "source": [
    "**Сформулируем гипотезы.**\n",
    "\n",
    "**H0:** различий в среднем чеке между группами нет.  \n",
    "**H1:** различия в среднем чеке между группами есть.   \n",
    "  \n",
    "Передадим критерию *mannwhitneyu* данные о выручке с заказов и найдём относительные различия в среднем чеке между группами.  "
   ]
  },
  {
   "cell_type": "code",
   "execution_count": 35,
   "metadata": {},
   "outputs": [
    {
     "name": "stdout",
     "output_type": "stream",
     "text": [
      "p-value: 0.829\n",
      "Относительные различия в среднем чеке: 0.287\n"
     ]
    }
   ],
   "source": [
    "print('p-value: {0:.3f}'.format(\n",
    "    stats.mannwhitneyu(\n",
    "        orders[orders['group']=='A']['revenue'],\n",
    "        orders[orders['group']=='B']['revenue'])[1])\n",
    "     )\n",
    "\n",
    "print('Относительные различия в среднем чеке: {0:.3f}'.format(\n",
    "    orders[orders['group']=='B']['revenue'].mean()/orders[orders['group']=='A']['revenue'].mean()-1)\n",
    "     )"
   ]
  },
  {
   "cell_type": "markdown",
   "metadata": {},
   "source": [
    "***Вывод:***\n",
    "<div style=\"border:solid green 1px; padding: 20px\">\n",
    "    \n",
    "P-value значительно больше 0.05. Значит, причин отвергать нулевую гипотезу и считать, что в среднем чеке есть различия, нет.   \n",
    "Средний чек группы А значительно ниже среднего чека группы В (относительное различие между ними 28,7%), но наблюдаемое превышение среднего чека группы В не является значимым, получено случайно.\n",
    "</div>"
   ]
  },
  {
   "cell_type": "markdown",
   "metadata": {},
   "source": [
    "**Посчитаем статистическую значимость различий в среднем количестве заказов между группами по «очищенным» данным**"
   ]
  },
  {
   "cell_type": "markdown",
   "metadata": {},
   "source": [
    "Ранее мы приняли за аномальных пользователей тех, кто совершил больше 2 заказов или совершил заказ дороже 27 000 рублей.\n",
    "\n",
    "Так мы уберём 5% пользователей с наибольшим числом заказов и от 1% до 5% пользователей с дорогими заказами.\n",
    "Сделаем срезы пользователей с числом заказов больше 2 — usersWithManyOrders и пользователей, совершивших заказы дороже 27 000 — usersWithExpensiveOrders.\n",
    "\n",
    "Объединим их в таблице abnormalUsers."
   ]
  },
  {
   "cell_type": "code",
   "execution_count": 36,
   "metadata": {},
   "outputs": [
    {
     "data": {
      "text/plain": [
       "568     113298937\n",
       "1099    148427295\n",
       "928     204675465\n",
       "33      249864742\n",
       "684     358944393\n",
       "Name: visitorId, dtype: int64"
      ]
     },
     "metadata": {},
     "output_type": "display_data"
    },
    {
     "name": "stdout",
     "output_type": "stream",
     "text": [
      "Количество аномальных пользователей: 58\n"
     ]
    }
   ],
   "source": [
    "usersWithManyOrders = pd.concat(\n",
    "    [\n",
    "        ordersByUsersA[ordersByUsersA['orders'] > 2]['visitorId'],\n",
    "        ordersByUsersB[ordersByUsersB['orders'] > 2]['visitorId'],\n",
    "    ],\n",
    "    axis=0,\n",
    ")\n",
    "usersWithExpensiveOrders = orders[orders['revenue'] > 27000]['visitorId']\n",
    "\n",
    "abnormalUsers = (\n",
    "    pd.concat([usersWithManyOrders, usersWithExpensiveOrders], axis=0)\n",
    "    .drop_duplicates()\n",
    "    .sort_values()\n",
    ")\n",
    "display(abnormalUsers.head(5))\n",
    "print('Количество аномальных пользователей:', abnormalUsers.shape[0])\n"
   ]
  },
  {
   "cell_type": "markdown",
   "metadata": {},
   "source": [
    "Таким образом, мы получили 58 аномальных пользователей. "
   ]
  },
  {
   "cell_type": "code",
   "execution_count": 37,
   "metadata": {},
   "outputs": [],
   "source": [
    "# подготовим выборки количества заказов по пользователям по группам теста\n",
    "\n",
    "sampleAFiltered = pd.concat(\n",
    "    [ordersByUsersA[np.logical_not(ordersByUsersA['visitorId'].isin(abnormalUsers))]['orders'],\n",
    "        pd.Series(0, index = np.arange(\n",
    "                data['visitorsPerDateA'].sum() - len(ordersByUsersA['orders'])\n",
    "            ), name='orders',),], axis=0,\n",
    ")\n",
    "\n",
    "sampleBFiltered = pd.concat([ordersByUsersB[np.logical_not(ordersByUsersB['visitorId'].isin(abnormalUsers))]['orders'],\n",
    "        pd.Series(0, index = np.arange(\n",
    "                data['visitorsPerDateB'].sum() - len(ordersByUsersB['orders'])\n",
    "            ), name='orders',),], axis = 0,\n",
    ")"
   ]
  },
  {
   "cell_type": "code",
   "execution_count": 38,
   "metadata": {},
   "outputs": [
    {
     "name": "stdout",
     "output_type": "stream",
     "text": [
      "p-value: 0.012\n",
      "Относительный прирост конверсии группы В к конверсии группы А: 0.182\n"
     ]
    }
   ],
   "source": [
    "# применим статистический критерий Манна-Уитни к полученным выборкам\n",
    "\n",
    "print('p-value: {0:.3f}'.format(stats.mannwhitneyu(sampleAFiltered, sampleBFiltered)[1]))\n",
    "\n",
    "print('Относительный прирост конверсии группы В к конверсии группы А: {0:.3f}'.format(\n",
    "    sampleBFiltered.mean()/sampleAFiltered.mean()-1)\n",
    "     )\n"
   ]
  },
  {
   "cell_type": "markdown",
   "metadata": {},
   "source": [
    "***Вывод:***\n",
    "<div style=\"border:solid green 1px; padding: 20px\">\n",
    "    \n",
    "Сравниваем:\n",
    "\n",
    "Значения по сырым данным:\n",
    "p-value: 0.011\n",
    "Относительный прирост конверсии группы В к конверсии группы А: 0.160\n",
    "\n",
    "Значения по очищенным данным:\n",
    "p-value: 0.012\n",
    "Относительный прирост конверсии группы В к конверсии группы А: 0.182\n",
    "\n",
    "Значение p-value и результаты по среднему количеству заказов практически не изменились, таким образом, выводы по сырым данным применимы и в этом случае.\n",
    "\n",
    "P-value по-прежнему меньше 0.05. Таким образом, нулевую гипотезу о том, что статистически значимых различий в конверсии между группами нет, отвергаем.\n",
    "</div>"
   ]
  },
  {
   "cell_type": "markdown",
   "metadata": {},
   "source": [
    "**Посчитаем статистическую значимость различий в среднем чеке заказа между группами по «очищенным» данным**"
   ]
  },
  {
   "cell_type": "code",
   "execution_count": 39,
   "metadata": {},
   "outputs": [
    {
     "name": "stdout",
     "output_type": "stream",
     "text": [
      "p-value: 0.646\n",
      "Относительные различия в среднем чеке: -0.048\n"
     ]
    }
   ],
   "source": [
    "print('p-value: {0:.3f}'.format(stats.mannwhitneyu(orders[np.logical_and(\n",
    "        orders['group'] == 'A', np.logical_not(orders['visitorId'].isin(abnormalUsers)),)]['revenue'],\n",
    "        orders[np.logical_and(orders['group'] == 'B',np.logical_not(orders['visitorId'].isin(abnormalUsers)),)\n",
    "        ]['revenue'],)[1])\n",
    ")\n",
    "\n",
    "print(\"Относительные различия в среднем чеке: {0:.3f}\".format(orders[np.logical_and(\n",
    "        orders['group'] == 'B',np.logical_not(orders['visitorId'].isin(abnormalUsers)),)]['revenue'].mean()\n",
    "        / orders[np.logical_and(orders['group'] == 'A',np.logical_not(orders['visitorId'].isin(abnormalUsers)),)\n",
    "        ]['revenue'].mean()- 1)\n",
    ")"
   ]
  },
  {
   "cell_type": "markdown",
   "metadata": {},
   "source": [
    "***Вывод:***\n",
    "<div style=\"border:solid green 1px; padding: 20px\">\n",
    "    \n",
    "Сравниваем:\n",
    "\n",
    "Значения по сырым данным:\n",
    "p-value: 0.829\n",
    "Относительные различия в среднем чеке: 0.287\n",
    "\n",
    "Значения по очищенным данным:\n",
    "p-value: 0.862\n",
    "Относительные различия в среднем чеке: -0.028\n",
    "\n",
    "P-value увеличилось, но и разница между сегментами сократилась с 29% до отрицательного значения.\n",
    "\n",
    "P-value по-прежнему значительно больше 0.05, таким образом, гипотезу об отсутствии различий в среднем чеке между группами опровергуть не смогли. А после очистки данных средний чек группы А стал чуть больше среднего чека группы B.\n",
    "</div>"
   ]
  },
  {
   "cell_type": "markdown",
   "metadata": {},
   "source": [
    "# Примем решение по результатам теста"
   ]
  },
  {
   "cell_type": "markdown",
   "metadata": {},
   "source": [
    "<div style=\"border:solid purple 2px; padding: 20px\">\n",
    "\n",
    "Имеющиеся факты:\n",
    "\n",
    "* Есть статистически значимые различия по среднему количеству заказов между группами как по «сырым», так и по данным после фильтрации аномалий (конверсия группы B выше);  \n",
    "* Нет статистически значимого различия по среднему чеку между группами ни по «сырым», ни по данным после фильтрации аномалий;  \n",
    "* График различия конверсии между группами сообщает, что результаты группы B лучше группы A и они достаточно стабильны;  \n",
    "* График различия среднего чека колебался: таким образом он позволил найти аномалии. Сделать из этого графика определённые выводы нельзя.  \n",
    "* Исходя из обнаруженных фактов, тест следует остановить и признать его успешным, мы выяснили, что сегмент B лучше сегмента A.     \n",
    "\n",
    "Хотя между группами А и В мы не обнаружили существенных отличий по выручке и среднему чеку, конверсия группы В выше конверсии группы A на 14.8%. Поэтому признаем группу B лучшей.  \n",
    "\n",
    "По анализу результатов A/B-теста принято решение остановить тест, зафиксировав победу тестовой группы. Группа B статистически лучше группы A по метрике конверсии, но различий в средних чеках нет.\n",
    "    \n",
    "</div>"
   ]
  },
  {
   "cell_type": "markdown",
   "metadata": {},
   "source": [
    "# Общий вывод"
   ]
  },
  {
   "cell_type": "markdown",
   "metadata": {},
   "source": [
    "<div style=\"border:solid red 1px; padding: 20px\">\n",
    "\n",
    "В первой части проекта мы выяснили, что самая перспективная гипотеза по ICE - это **\"Запустить акцию, дающую скидку на товар в день рождения\"** - влияние минимально, затронет небольшое количество пользователей.  \n",
    "  \n",
    "А самая перспективная по RICE - это **\"Добавить форму подписки на все основные страницы, чтобы собрать базу клиентов для email-рассылок\"**. Действительно, добавление формы подписки имеет гораздо большее влияние и охват, а оставившие свой email пользователи скорее всего лояльны к компании и могут хорошо сконвертироваться в будущем.  \n",
    "Также интересно, что топ-5 гипотез по обоим фреймворкам одинаковый, поменялся только порядок. Стоит рассматривать эту пятёрку в первую очередь.        \n",
    "    \n",
    "Во второй части работы был выполнен анализ результатов A/B-теста, который был проведён в целях увеличения выручки. A/B-тест проводился в августе 2019 года, за всё время проведения теста было совершено 1197 покупок. \n",
    "\n",
    "В работе было выполено следующее:\n",
    "\n",
    "Построены графики кумулятивных метрик: выручки, среднего чека и конверсии по группам и графики относительного изменения среднего чека и конверсии группы B к группе A;  \n",
    "Проведён анализ выбросов - посчитаны 95 и 99 перцентили числа и стоимости заказов, определены \"аномальные\" пользователи, к ним отнести пользователей совершивших более 2 заказов или заказ более чем на 27 тыс руб;  \n",
    "Посчитана статистическая значимость различий в конверсии и среднем чеке как по исходным данным, так и по данным без выбросов.    \n",
    "      \n",
    "Нами получены следующие результаты:  \n",
    "      \n",
    "По исходным данным:  \n",
    "  \n",
    "* между конверсией в группах есть статистически важные различия, конверсия в группе B относительно группы A выше на 16%;\n",
    "по среднему чеку различий нет, средний чек в группе B относительно группы A выше на 28.7% (тут заметно влияние единичного заказа на очень большую сумму).  \n",
    "      \n",
    "По данным без выбросов:  \n",
    "  \n",
    "* между конверсией в группах есть статистически важные различия, конверсия в группе B относительно группы A выше на 12%;\n",
    "При этом, в очищенных данных относительный прирост размера среднего чека группы B -2,2%, что свидетельствует о том, что нововведения, которые тестировались на группе B, не привели к росту среднего чека покупателей.\n",
    "По анализу результатов A/B-теста принято решение остановить тест, зафиксировав победу тестовой группы. Группа B статистически лучше группы A по метрике конверсии, но различий в средних чеках нет.\n",
    "\n",
    "По условиям задачи проверяется эффективность гипотезы в плане увеличения выручки и поскольку конверсия пользователей влияет на выручку и мы получили результат, что конверсия в тестовой группе значительно увеличилась, по сравнению с контрольной, даже с учётом того, что средний чек остался без изменений, нет никакого смысла и далее продолжать тест.   \n",
    "</div>"
   ]
  }
 ],
 "metadata": {
  "ExecuteTimeLog": [
   {
    "duration": 1302,
    "start_time": "2022-12-05T09:08:03.310Z"
   },
   {
    "duration": 230,
    "start_time": "2022-12-05T09:10:36.574Z"
   },
   {
    "duration": 20,
    "start_time": "2022-12-05T09:11:05.104Z"
   },
   {
    "duration": 16,
    "start_time": "2022-12-05T09:11:16.107Z"
   },
   {
    "duration": 17,
    "start_time": "2022-12-05T09:30:00.869Z"
   },
   {
    "duration": 15,
    "start_time": "2022-12-05T09:30:14.299Z"
   },
   {
    "duration": 15,
    "start_time": "2022-12-05T09:31:23.805Z"
   },
   {
    "duration": 8,
    "start_time": "2022-12-05T09:32:11.491Z"
   },
   {
    "duration": 5,
    "start_time": "2022-12-05T09:32:30.395Z"
   },
   {
    "duration": 7,
    "start_time": "2022-12-05T09:32:31.975Z"
   },
   {
    "duration": 8,
    "start_time": "2022-12-05T09:32:32.511Z"
   },
   {
    "duration": 6,
    "start_time": "2022-12-05T09:32:50.055Z"
   },
   {
    "duration": 8,
    "start_time": "2022-12-05T09:32:58.675Z"
   },
   {
    "duration": 4,
    "start_time": "2022-12-05T09:33:18.567Z"
   },
   {
    "duration": 5,
    "start_time": "2022-12-05T09:33:30.655Z"
   },
   {
    "duration": 4,
    "start_time": "2022-12-05T09:33:45.865Z"
   },
   {
    "duration": 4,
    "start_time": "2022-12-05T09:33:49.207Z"
   },
   {
    "duration": 9,
    "start_time": "2022-12-05T09:36:48.836Z"
   },
   {
    "duration": 8,
    "start_time": "2022-12-05T09:36:51.715Z"
   },
   {
    "duration": 4,
    "start_time": "2022-12-05T09:36:54.507Z"
   },
   {
    "duration": 15,
    "start_time": "2022-12-05T09:40:12.329Z"
   },
   {
    "duration": 15,
    "start_time": "2022-12-05T09:40:26.545Z"
   },
   {
    "duration": 16,
    "start_time": "2022-12-05T09:40:34.776Z"
   },
   {
    "duration": 3,
    "start_time": "2022-12-05T09:41:27.505Z"
   },
   {
    "duration": 9,
    "start_time": "2022-12-05T09:41:40.369Z"
   },
   {
    "duration": 7,
    "start_time": "2022-12-05T09:41:49.458Z"
   },
   {
    "duration": 6,
    "start_time": "2022-12-05T09:45:02.038Z"
   },
   {
    "duration": 5,
    "start_time": "2022-12-05T09:45:22.142Z"
   },
   {
    "duration": 941,
    "start_time": "2022-12-05T09:45:33.965Z"
   },
   {
    "duration": 5,
    "start_time": "2022-12-05T09:45:40.813Z"
   },
   {
    "duration": 12,
    "start_time": "2022-12-05T09:46:12.809Z"
   },
   {
    "duration": 11,
    "start_time": "2022-12-05T09:48:08.429Z"
   },
   {
    "duration": 10,
    "start_time": "2022-12-05T09:50:56.057Z"
   },
   {
    "duration": 12,
    "start_time": "2022-12-05T09:51:17.334Z"
   },
   {
    "duration": 1238,
    "start_time": "2022-12-05T09:51:32.961Z"
   },
   {
    "duration": 80,
    "start_time": "2022-12-05T09:51:34.201Z"
   },
   {
    "duration": 21,
    "start_time": "2022-12-05T09:51:34.282Z"
   },
   {
    "duration": 10,
    "start_time": "2022-12-05T09:51:34.306Z"
   },
   {
    "duration": 10,
    "start_time": "2022-12-05T09:51:34.318Z"
   },
   {
    "duration": 18,
    "start_time": "2022-12-05T09:51:34.330Z"
   },
   {
    "duration": 16,
    "start_time": "2022-12-05T09:51:34.350Z"
   },
   {
    "duration": 24,
    "start_time": "2022-12-05T09:51:34.368Z"
   },
   {
    "duration": 40,
    "start_time": "2022-12-05T09:51:34.393Z"
   },
   {
    "duration": 13,
    "start_time": "2022-12-05T09:51:34.436Z"
   },
   {
    "duration": 79,
    "start_time": "2022-12-05T09:53:44.865Z"
   },
   {
    "duration": 891,
    "start_time": "2022-12-05T10:02:31.817Z"
   },
   {
    "duration": 829,
    "start_time": "2022-12-05T10:03:08.038Z"
   },
   {
    "duration": 1108,
    "start_time": "2022-12-05T10:03:16.867Z"
   },
   {
    "duration": 84,
    "start_time": "2022-12-05T10:03:17.977Z"
   },
   {
    "duration": 21,
    "start_time": "2022-12-05T10:03:18.062Z"
   },
   {
    "duration": 8,
    "start_time": "2022-12-05T10:03:18.085Z"
   },
   {
    "duration": 9,
    "start_time": "2022-12-05T10:03:18.095Z"
   },
   {
    "duration": 107,
    "start_time": "2022-12-05T10:03:18.106Z"
   },
   {
    "duration": 0,
    "start_time": "2022-12-05T10:03:18.214Z"
   },
   {
    "duration": 0,
    "start_time": "2022-12-05T10:03:18.215Z"
   },
   {
    "duration": 0,
    "start_time": "2022-12-05T10:03:18.217Z"
   },
   {
    "duration": 0,
    "start_time": "2022-12-05T10:03:18.218Z"
   },
   {
    "duration": 14,
    "start_time": "2022-12-05T10:03:32.282Z"
   },
   {
    "duration": 11,
    "start_time": "2022-12-05T10:03:46.866Z"
   },
   {
    "duration": 10,
    "start_time": "2022-12-05T10:03:53.930Z"
   },
   {
    "duration": 14,
    "start_time": "2022-12-05T10:04:07.986Z"
   },
   {
    "duration": 13,
    "start_time": "2022-12-05T10:05:21.658Z"
   },
   {
    "duration": 12,
    "start_time": "2022-12-05T10:05:41.266Z"
   },
   {
    "duration": 12,
    "start_time": "2022-12-05T10:05:58.066Z"
   },
   {
    "duration": 1047,
    "start_time": "2022-12-05T10:06:03.390Z"
   },
   {
    "duration": 81,
    "start_time": "2022-12-05T10:06:04.439Z"
   },
   {
    "duration": 21,
    "start_time": "2022-12-05T10:06:04.522Z"
   },
   {
    "duration": 20,
    "start_time": "2022-12-05T10:06:04.545Z"
   },
   {
    "duration": 11,
    "start_time": "2022-12-05T10:06:04.567Z"
   },
   {
    "duration": 19,
    "start_time": "2022-12-05T10:06:04.580Z"
   },
   {
    "duration": 13,
    "start_time": "2022-12-05T10:06:04.601Z"
   },
   {
    "duration": 30,
    "start_time": "2022-12-05T10:06:04.616Z"
   },
   {
    "duration": 31,
    "start_time": "2022-12-05T10:06:04.648Z"
   },
   {
    "duration": 22,
    "start_time": "2022-12-05T10:06:04.681Z"
   },
   {
    "duration": 15,
    "start_time": "2022-12-05T10:06:46.974Z"
   },
   {
    "duration": 1056,
    "start_time": "2022-12-05T10:06:56.617Z"
   },
   {
    "duration": 78,
    "start_time": "2022-12-05T10:06:57.675Z"
   },
   {
    "duration": 19,
    "start_time": "2022-12-05T10:06:57.754Z"
   },
   {
    "duration": 9,
    "start_time": "2022-12-05T10:06:57.775Z"
   },
   {
    "duration": 7,
    "start_time": "2022-12-05T10:06:57.786Z"
   },
   {
    "duration": 25,
    "start_time": "2022-12-05T10:06:57.794Z"
   },
   {
    "duration": 14,
    "start_time": "2022-12-05T10:06:57.820Z"
   },
   {
    "duration": 20,
    "start_time": "2022-12-05T10:06:57.836Z"
   },
   {
    "duration": 16,
    "start_time": "2022-12-05T10:06:57.857Z"
   },
   {
    "duration": 9,
    "start_time": "2022-12-05T10:06:57.875Z"
   },
   {
    "duration": 198,
    "start_time": "2022-12-05T10:08:10.533Z"
   },
   {
    "duration": 2,
    "start_time": "2022-12-05T10:12:52.075Z"
   },
   {
    "duration": 16,
    "start_time": "2022-12-05T10:14:25.088Z"
   },
   {
    "duration": 16,
    "start_time": "2022-12-05T10:14:35.044Z"
   },
   {
    "duration": 7,
    "start_time": "2022-12-05T10:14:47.430Z"
   },
   {
    "duration": 7,
    "start_time": "2022-12-05T10:17:58.122Z"
   },
   {
    "duration": 5,
    "start_time": "2022-12-05T10:18:41.906Z"
   },
   {
    "duration": 4,
    "start_time": "2022-12-05T10:19:12.196Z"
   },
   {
    "duration": 5,
    "start_time": "2022-12-05T10:19:50.932Z"
   },
   {
    "duration": 6,
    "start_time": "2022-12-05T10:20:20.108Z"
   },
   {
    "duration": 5,
    "start_time": "2022-12-05T10:24:12.280Z"
   },
   {
    "duration": 5,
    "start_time": "2022-12-05T10:41:26.599Z"
   },
   {
    "duration": 6,
    "start_time": "2022-12-05T10:41:30.963Z"
   },
   {
    "duration": 13,
    "start_time": "2022-12-05T10:41:40.852Z"
   },
   {
    "duration": 6,
    "start_time": "2022-12-05T10:41:47.495Z"
   },
   {
    "duration": 111,
    "start_time": "2022-12-05T10:45:00.652Z"
   },
   {
    "duration": 27,
    "start_time": "2022-12-05T10:45:07.612Z"
   },
   {
    "duration": 25,
    "start_time": "2022-12-05T10:45:11.524Z"
   },
   {
    "duration": 25,
    "start_time": "2022-12-05T10:45:39.881Z"
   },
   {
    "duration": 181,
    "start_time": "2022-12-05T10:46:04.823Z"
   },
   {
    "duration": 170,
    "start_time": "2022-12-05T10:49:20.192Z"
   },
   {
    "duration": 120,
    "start_time": "2022-12-05T10:49:53.732Z"
   },
   {
    "duration": 125,
    "start_time": "2022-12-05T10:50:12.557Z"
   },
   {
    "duration": 12,
    "start_time": "2022-12-05T10:50:49.825Z"
   },
   {
    "duration": 13,
    "start_time": "2022-12-05T10:50:56.364Z"
   },
   {
    "duration": 5,
    "start_time": "2022-12-05T10:51:25.898Z"
   },
   {
    "duration": 6,
    "start_time": "2022-12-05T10:51:49.144Z"
   },
   {
    "duration": 7,
    "start_time": "2022-12-05T10:53:16.294Z"
   },
   {
    "duration": 282,
    "start_time": "2022-12-05T10:53:38.104Z"
   },
   {
    "duration": 208,
    "start_time": "2022-12-05T10:55:45.472Z"
   },
   {
    "duration": 207,
    "start_time": "2022-12-05T11:00:57.280Z"
   },
   {
    "duration": 283,
    "start_time": "2022-12-05T11:04:29.177Z"
   },
   {
    "duration": 316,
    "start_time": "2022-12-05T11:04:52.065Z"
   },
   {
    "duration": 345,
    "start_time": "2022-12-05T11:04:58.644Z"
   },
   {
    "duration": 374,
    "start_time": "2022-12-05T11:05:21.331Z"
   },
   {
    "duration": 231,
    "start_time": "2022-12-05T11:11:53.289Z"
   },
   {
    "duration": 209,
    "start_time": "2022-12-05T11:12:10.259Z"
   },
   {
    "duration": 254,
    "start_time": "2022-12-05T11:12:41.791Z"
   },
   {
    "duration": 9,
    "start_time": "2022-12-05T11:21:06.499Z"
   },
   {
    "duration": 373,
    "start_time": "2022-12-05T11:23:36.727Z"
   },
   {
    "duration": 321,
    "start_time": "2022-12-05T11:23:55.791Z"
   },
   {
    "duration": 55,
    "start_time": "2022-12-05T11:26:17.579Z"
   },
   {
    "duration": 15,
    "start_time": "2022-12-05T11:27:16.933Z"
   },
   {
    "duration": 13,
    "start_time": "2022-12-05T11:27:26.171Z"
   },
   {
    "duration": 12,
    "start_time": "2022-12-05T11:28:10.986Z"
   },
   {
    "duration": 12,
    "start_time": "2022-12-05T11:30:05.796Z"
   },
   {
    "duration": 270,
    "start_time": "2022-12-05T11:30:56.061Z"
   },
   {
    "duration": 295,
    "start_time": "2022-12-05T11:31:19.360Z"
   },
   {
    "duration": 262,
    "start_time": "2022-12-05T11:31:44.217Z"
   },
   {
    "duration": 273,
    "start_time": "2022-12-05T11:31:55.162Z"
   },
   {
    "duration": 139,
    "start_time": "2022-12-05T11:33:10.887Z"
   },
   {
    "duration": 6,
    "start_time": "2022-12-05T11:36:10.532Z"
   },
   {
    "duration": 5,
    "start_time": "2022-12-05T11:36:26.491Z"
   },
   {
    "duration": 224,
    "start_time": "2022-12-05T11:38:43.253Z"
   },
   {
    "duration": 164,
    "start_time": "2022-12-05T11:38:56.574Z"
   },
   {
    "duration": 173,
    "start_time": "2022-12-05T11:39:56.333Z"
   },
   {
    "duration": 159,
    "start_time": "2022-12-05T11:40:46.283Z"
   },
   {
    "duration": 159,
    "start_time": "2022-12-05T11:40:48.907Z"
   },
   {
    "duration": 4,
    "start_time": "2022-12-05T11:49:20.455Z"
   },
   {
    "duration": 4,
    "start_time": "2022-12-05T11:49:59.396Z"
   },
   {
    "duration": 4,
    "start_time": "2022-12-05T11:50:16.190Z"
   },
   {
    "duration": 1090,
    "start_time": "2022-12-05T11:50:24.902Z"
   },
   {
    "duration": 79,
    "start_time": "2022-12-05T11:50:25.996Z"
   },
   {
    "duration": 18,
    "start_time": "2022-12-05T11:50:26.077Z"
   },
   {
    "duration": 7,
    "start_time": "2022-12-05T11:50:26.097Z"
   },
   {
    "duration": 7,
    "start_time": "2022-12-05T11:50:26.106Z"
   },
   {
    "duration": 14,
    "start_time": "2022-12-05T11:50:26.114Z"
   },
   {
    "duration": 12,
    "start_time": "2022-12-05T11:50:26.129Z"
   },
   {
    "duration": 17,
    "start_time": "2022-12-05T11:50:26.143Z"
   },
   {
    "duration": 4,
    "start_time": "2022-12-05T11:50:26.162Z"
   },
   {
    "duration": 18,
    "start_time": "2022-12-05T11:50:26.168Z"
   },
   {
    "duration": 4,
    "start_time": "2022-12-05T11:50:26.188Z"
   },
   {
    "duration": 19,
    "start_time": "2022-12-05T11:50:26.194Z"
   },
   {
    "duration": 193,
    "start_time": "2022-12-05T11:50:26.215Z"
   },
   {
    "duration": 116,
    "start_time": "2022-12-05T11:50:26.410Z"
   },
   {
    "duration": 13,
    "start_time": "2022-12-05T11:50:26.534Z"
   },
   {
    "duration": 8,
    "start_time": "2022-12-05T11:50:26.548Z"
   },
   {
    "duration": 13,
    "start_time": "2022-12-05T11:50:26.558Z"
   },
   {
    "duration": 24,
    "start_time": "2022-12-05T11:50:26.573Z"
   },
   {
    "duration": 360,
    "start_time": "2022-12-05T11:50:26.598Z"
   },
   {
    "duration": 300,
    "start_time": "2022-12-05T11:50:26.960Z"
   },
   {
    "duration": 348,
    "start_time": "2022-12-05T11:50:27.262Z"
   },
   {
    "duration": 251,
    "start_time": "2022-12-05T11:50:27.611Z"
   },
   {
    "duration": 334,
    "start_time": "2022-12-05T11:50:27.864Z"
   },
   {
    "duration": 278,
    "start_time": "2022-12-05T11:50:28.200Z"
   },
   {
    "duration": 139,
    "start_time": "2022-12-05T11:50:28.480Z"
   },
   {
    "duration": 4,
    "start_time": "2022-12-05T11:50:28.621Z"
   },
   {
    "duration": 171,
    "start_time": "2022-12-05T11:50:28.636Z"
   },
   {
    "duration": 242,
    "start_time": "2022-12-05T11:50:28.808Z"
   },
   {
    "duration": 4,
    "start_time": "2022-12-05T11:50:29.052Z"
   },
   {
    "duration": 5,
    "start_time": "2022-12-05T11:50:40.826Z"
   },
   {
    "duration": 5,
    "start_time": "2022-12-05T11:50:57.698Z"
   },
   {
    "duration": 4,
    "start_time": "2022-12-05T11:51:08.415Z"
   },
   {
    "duration": 192,
    "start_time": "2022-12-05T12:01:04.850Z"
   },
   {
    "duration": 99,
    "start_time": "2022-12-05T12:01:44.691Z"
   },
   {
    "duration": 97,
    "start_time": "2022-12-05T12:01:54.098Z"
   },
   {
    "duration": 106,
    "start_time": "2022-12-05T12:02:27.654Z"
   },
   {
    "duration": 110,
    "start_time": "2022-12-05T12:02:37.258Z"
   },
   {
    "duration": 116,
    "start_time": "2022-12-05T12:02:50.221Z"
   },
   {
    "duration": 209,
    "start_time": "2022-12-05T12:03:07.619Z"
   },
   {
    "duration": 143,
    "start_time": "2022-12-05T12:03:57.930Z"
   },
   {
    "duration": 209,
    "start_time": "2022-12-05T12:04:30.900Z"
   },
   {
    "duration": 129,
    "start_time": "2022-12-05T12:04:33.373Z"
   },
   {
    "duration": 7,
    "start_time": "2022-12-05T12:04:34.562Z"
   },
   {
    "duration": 7,
    "start_time": "2022-12-05T12:06:38.611Z"
   },
   {
    "duration": 132,
    "start_time": "2022-12-05T12:09:04.813Z"
   },
   {
    "duration": 702,
    "start_time": "2022-12-05T12:09:10.693Z"
   },
   {
    "duration": 1016,
    "start_time": "2022-12-05T12:09:33.053Z"
   },
   {
    "duration": 124,
    "start_time": "2022-12-05T12:10:31.138Z"
   },
   {
    "duration": 7,
    "start_time": "2022-12-05T12:10:49.650Z"
   },
   {
    "duration": 119,
    "start_time": "2022-12-05T12:10:53.770Z"
   },
   {
    "duration": 7,
    "start_time": "2022-12-05T12:10:54.971Z"
   },
   {
    "duration": 193,
    "start_time": "2022-12-05T12:11:52.330Z"
   },
   {
    "duration": 7,
    "start_time": "2022-12-05T12:12:09.650Z"
   },
   {
    "duration": 157,
    "start_time": "2022-12-05T12:12:10.701Z"
   },
   {
    "duration": 126,
    "start_time": "2022-12-05T12:14:12.197Z"
   },
   {
    "duration": 11,
    "start_time": "2022-12-05T12:21:09.530Z"
   },
   {
    "duration": 11,
    "start_time": "2022-12-05T12:27:49.381Z"
   },
   {
    "duration": 11,
    "start_time": "2022-12-05T12:29:03.293Z"
   },
   {
    "duration": 8,
    "start_time": "2022-12-05T12:30:44.292Z"
   },
   {
    "duration": 8,
    "start_time": "2022-12-05T12:31:19.340Z"
   },
   {
    "duration": 10,
    "start_time": "2022-12-05T12:31:25.379Z"
   },
   {
    "duration": 24,
    "start_time": "2022-12-05T12:31:34.890Z"
   },
   {
    "duration": 10,
    "start_time": "2022-12-05T12:36:13.378Z"
   },
   {
    "duration": 15,
    "start_time": "2022-12-05T12:37:27.740Z"
   },
   {
    "duration": 14,
    "start_time": "2022-12-05T12:37:34.170Z"
   },
   {
    "duration": 1154,
    "start_time": "2022-12-05T13:00:05.970Z"
   },
   {
    "duration": 88,
    "start_time": "2022-12-05T13:00:07.126Z"
   },
   {
    "duration": 20,
    "start_time": "2022-12-05T13:00:07.215Z"
   },
   {
    "duration": 47,
    "start_time": "2022-12-05T13:00:07.237Z"
   },
   {
    "duration": 49,
    "start_time": "2022-12-05T13:00:07.287Z"
   },
   {
    "duration": 41,
    "start_time": "2022-12-05T13:00:07.337Z"
   },
   {
    "duration": 41,
    "start_time": "2022-12-05T13:00:07.380Z"
   },
   {
    "duration": 74,
    "start_time": "2022-12-05T13:00:07.423Z"
   },
   {
    "duration": 23,
    "start_time": "2022-12-05T13:00:07.499Z"
   },
   {
    "duration": 36,
    "start_time": "2022-12-05T13:00:07.524Z"
   },
   {
    "duration": 17,
    "start_time": "2022-12-05T13:00:07.562Z"
   },
   {
    "duration": 14,
    "start_time": "2022-12-05T13:00:07.581Z"
   },
   {
    "duration": 187,
    "start_time": "2022-12-05T13:00:07.597Z"
   },
   {
    "duration": 128,
    "start_time": "2022-12-05T13:00:07.788Z"
   },
   {
    "duration": 24,
    "start_time": "2022-12-05T13:00:07.918Z"
   },
   {
    "duration": 9,
    "start_time": "2022-12-05T13:00:07.944Z"
   },
   {
    "duration": 21,
    "start_time": "2022-12-05T13:00:07.955Z"
   },
   {
    "duration": 13,
    "start_time": "2022-12-05T13:00:07.978Z"
   },
   {
    "duration": 317,
    "start_time": "2022-12-05T13:00:07.993Z"
   },
   {
    "duration": 206,
    "start_time": "2022-12-05T13:00:08.312Z"
   },
   {
    "duration": 349,
    "start_time": "2022-12-05T13:00:08.519Z"
   },
   {
    "duration": 234,
    "start_time": "2022-12-05T13:00:08.869Z"
   },
   {
    "duration": 395,
    "start_time": "2022-12-05T13:00:09.105Z"
   },
   {
    "duration": 288,
    "start_time": "2022-12-05T13:00:09.502Z"
   },
   {
    "duration": 157,
    "start_time": "2022-12-05T13:00:09.792Z"
   },
   {
    "duration": 4,
    "start_time": "2022-12-05T13:00:09.952Z"
   },
   {
    "duration": 186,
    "start_time": "2022-12-05T13:00:09.957Z"
   },
   {
    "duration": 233,
    "start_time": "2022-12-05T13:00:10.145Z"
   },
   {
    "duration": 4,
    "start_time": "2022-12-05T13:00:10.380Z"
   },
   {
    "duration": 237,
    "start_time": "2022-12-05T13:00:10.386Z"
   },
   {
    "duration": 133,
    "start_time": "2022-12-05T13:00:10.625Z"
   },
   {
    "duration": 6,
    "start_time": "2022-12-05T13:00:10.759Z"
   },
   {
    "duration": 169,
    "start_time": "2022-12-05T13:00:10.767Z"
   },
   {
    "duration": 9,
    "start_time": "2022-12-05T13:00:10.938Z"
   },
   {
    "duration": 14,
    "start_time": "2022-12-05T13:00:10.949Z"
   },
   {
    "duration": 16,
    "start_time": "2022-12-05T13:00:10.965Z"
   },
   {
    "duration": 28,
    "start_time": "2022-12-05T13:00:10.983Z"
   },
   {
    "duration": 29,
    "start_time": "2022-12-05T13:00:11.013Z"
   },
   {
    "duration": 261,
    "start_time": "2022-12-05T13:12:22.412Z"
   },
   {
    "duration": 213,
    "start_time": "2022-12-05T13:12:28.372Z"
   },
   {
    "duration": 204,
    "start_time": "2022-12-05T13:13:00.364Z"
   },
   {
    "duration": 209,
    "start_time": "2022-12-05T13:13:22.013Z"
   },
   {
    "duration": 187,
    "start_time": "2022-12-05T13:13:44.574Z"
   },
   {
    "duration": 300,
    "start_time": "2022-12-05T13:14:11.699Z"
   },
   {
    "duration": 296,
    "start_time": "2022-12-05T13:14:23.466Z"
   },
   {
    "duration": 300,
    "start_time": "2022-12-05T13:14:35.852Z"
   },
   {
    "duration": 229,
    "start_time": "2022-12-05T13:15:01.741Z"
   },
   {
    "duration": 424,
    "start_time": "2022-12-05T13:15:33.117Z"
   },
   {
    "duration": 303,
    "start_time": "2022-12-05T13:16:03.573Z"
   },
   {
    "duration": 290,
    "start_time": "2022-12-05T13:16:10.456Z"
   },
   {
    "duration": 299,
    "start_time": "2022-12-05T13:16:17.061Z"
   },
   {
    "duration": 105,
    "start_time": "2022-12-05T13:16:36.093Z"
   },
   {
    "duration": 141,
    "start_time": "2022-12-05T13:16:56.125Z"
   },
   {
    "duration": 158,
    "start_time": "2022-12-05T13:17:14.293Z"
   },
   {
    "duration": 134,
    "start_time": "2022-12-05T13:17:25.205Z"
   },
   {
    "duration": 144,
    "start_time": "2022-12-05T13:17:28.849Z"
   },
   {
    "duration": 155,
    "start_time": "2022-12-05T13:17:53.353Z"
   },
   {
    "duration": 148,
    "start_time": "2022-12-05T13:18:04.251Z"
   },
   {
    "duration": 182,
    "start_time": "2022-12-05T13:18:17.730Z"
   },
   {
    "duration": 234,
    "start_time": "2022-12-05T13:18:32.653Z"
   },
   {
    "duration": 203,
    "start_time": "2022-12-05T13:19:18.401Z"
   },
   {
    "duration": 1155,
    "start_time": "2022-12-05T13:20:05.308Z"
   },
   {
    "duration": 90,
    "start_time": "2022-12-05T13:20:06.465Z"
   },
   {
    "duration": 23,
    "start_time": "2022-12-05T13:20:06.557Z"
   },
   {
    "duration": 11,
    "start_time": "2022-12-05T13:20:06.583Z"
   },
   {
    "duration": 12,
    "start_time": "2022-12-05T13:20:06.597Z"
   },
   {
    "duration": 26,
    "start_time": "2022-12-05T13:20:06.611Z"
   },
   {
    "duration": 15,
    "start_time": "2022-12-05T13:20:06.639Z"
   },
   {
    "duration": 34,
    "start_time": "2022-12-05T13:20:06.657Z"
   },
   {
    "duration": 16,
    "start_time": "2022-12-05T13:20:06.693Z"
   },
   {
    "duration": 37,
    "start_time": "2022-12-05T13:20:06.712Z"
   },
   {
    "duration": 13,
    "start_time": "2022-12-05T13:20:06.751Z"
   },
   {
    "duration": 38,
    "start_time": "2022-12-05T13:20:06.767Z"
   },
   {
    "duration": 206,
    "start_time": "2022-12-05T13:20:06.807Z"
   },
   {
    "duration": 132,
    "start_time": "2022-12-05T13:20:07.015Z"
   },
   {
    "duration": 13,
    "start_time": "2022-12-05T13:20:07.149Z"
   },
   {
    "duration": 18,
    "start_time": "2022-12-05T13:20:07.164Z"
   },
   {
    "duration": 20,
    "start_time": "2022-12-05T13:20:07.183Z"
   },
   {
    "duration": 24,
    "start_time": "2022-12-05T13:20:07.205Z"
   },
   {
    "duration": 324,
    "start_time": "2022-12-05T13:20:07.231Z"
   },
   {
    "duration": 219,
    "start_time": "2022-12-05T13:20:07.557Z"
   },
   {
    "duration": 307,
    "start_time": "2022-12-05T13:20:07.778Z"
   },
   {
    "duration": 248,
    "start_time": "2022-12-05T13:20:08.087Z"
   },
   {
    "duration": 358,
    "start_time": "2022-12-05T13:20:08.337Z"
   },
   {
    "duration": 296,
    "start_time": "2022-12-05T13:20:08.697Z"
   },
   {
    "duration": 152,
    "start_time": "2022-12-05T13:20:08.994Z"
   },
   {
    "duration": 5,
    "start_time": "2022-12-05T13:20:09.148Z"
   },
   {
    "duration": 187,
    "start_time": "2022-12-05T13:20:09.155Z"
   },
   {
    "duration": 244,
    "start_time": "2022-12-05T13:20:09.346Z"
   },
   {
    "duration": 4,
    "start_time": "2022-12-05T13:20:09.592Z"
   },
   {
    "duration": 244,
    "start_time": "2022-12-05T13:20:09.598Z"
   },
   {
    "duration": 151,
    "start_time": "2022-12-05T13:20:09.844Z"
   },
   {
    "duration": 16,
    "start_time": "2022-12-05T13:20:09.996Z"
   },
   {
    "duration": 208,
    "start_time": "2022-12-05T13:20:10.014Z"
   },
   {
    "duration": 10,
    "start_time": "2022-12-05T13:20:10.234Z"
   },
   {
    "duration": 22,
    "start_time": "2022-12-05T13:20:10.245Z"
   },
   {
    "duration": 16,
    "start_time": "2022-12-05T13:20:10.269Z"
   },
   {
    "duration": 45,
    "start_time": "2022-12-05T13:20:10.287Z"
   },
   {
    "duration": 17,
    "start_time": "2022-12-05T13:20:10.334Z"
   },
   {
    "duration": 235,
    "start_time": "2022-12-05T13:20:49.300Z"
   },
   {
    "duration": 216,
    "start_time": "2022-12-05T13:21:05.987Z"
   },
   {
    "duration": 219,
    "start_time": "2022-12-05T13:21:11.286Z"
   },
   {
    "duration": 231,
    "start_time": "2022-12-05T13:21:15.946Z"
   },
   {
    "duration": 219,
    "start_time": "2022-12-05T13:21:25.857Z"
   },
   {
    "duration": 1210,
    "start_time": "2022-12-05T14:22:47.891Z"
   },
   {
    "duration": 74,
    "start_time": "2022-12-05T14:22:49.104Z"
   },
   {
    "duration": 24,
    "start_time": "2022-12-05T14:22:49.180Z"
   },
   {
    "duration": 9,
    "start_time": "2022-12-05T14:22:49.206Z"
   },
   {
    "duration": 9,
    "start_time": "2022-12-05T14:22:49.216Z"
   },
   {
    "duration": 18,
    "start_time": "2022-12-05T14:22:49.226Z"
   },
   {
    "duration": 36,
    "start_time": "2022-12-05T14:22:49.245Z"
   },
   {
    "duration": 18,
    "start_time": "2022-12-05T14:22:49.284Z"
   },
   {
    "duration": 8,
    "start_time": "2022-12-05T14:22:49.304Z"
   },
   {
    "duration": 16,
    "start_time": "2022-12-05T14:22:49.316Z"
   },
   {
    "duration": 7,
    "start_time": "2022-12-05T14:22:49.334Z"
   },
   {
    "duration": 37,
    "start_time": "2022-12-05T14:22:49.342Z"
   },
   {
    "duration": 210,
    "start_time": "2022-12-05T14:22:49.381Z"
   },
   {
    "duration": 148,
    "start_time": "2022-12-05T14:22:49.592Z"
   },
   {
    "duration": 13,
    "start_time": "2022-12-05T14:22:49.742Z"
   },
   {
    "duration": 24,
    "start_time": "2022-12-05T14:22:49.757Z"
   },
   {
    "duration": 14,
    "start_time": "2022-12-05T14:22:49.783Z"
   },
   {
    "duration": 17,
    "start_time": "2022-12-05T14:22:49.799Z"
   },
   {
    "duration": 332,
    "start_time": "2022-12-05T14:22:49.817Z"
   },
   {
    "duration": 234,
    "start_time": "2022-12-05T14:22:50.150Z"
   },
   {
    "duration": 342,
    "start_time": "2022-12-05T14:22:50.386Z"
   },
   {
    "duration": 268,
    "start_time": "2022-12-05T14:22:50.730Z"
   },
   {
    "duration": 346,
    "start_time": "2022-12-05T14:22:51.000Z"
   },
   {
    "duration": 349,
    "start_time": "2022-12-05T14:22:51.348Z"
   },
   {
    "duration": 166,
    "start_time": "2022-12-05T14:22:51.699Z"
   },
   {
    "duration": 10,
    "start_time": "2022-12-05T14:22:51.867Z"
   },
   {
    "duration": 180,
    "start_time": "2022-12-05T14:22:51.879Z"
   },
   {
    "duration": 266,
    "start_time": "2022-12-05T14:22:52.062Z"
   },
   {
    "duration": 4,
    "start_time": "2022-12-05T14:22:52.330Z"
   },
   {
    "duration": 252,
    "start_time": "2022-12-05T14:22:52.336Z"
   },
   {
    "duration": 150,
    "start_time": "2022-12-05T14:22:52.590Z"
   },
   {
    "duration": 7,
    "start_time": "2022-12-05T14:22:52.742Z"
   },
   {
    "duration": 167,
    "start_time": "2022-12-05T14:22:52.750Z"
   },
   {
    "duration": 11,
    "start_time": "2022-12-05T14:22:52.919Z"
   },
   {
    "duration": 12,
    "start_time": "2022-12-05T14:22:52.932Z"
   },
   {
    "duration": 33,
    "start_time": "2022-12-05T14:22:52.945Z"
   },
   {
    "duration": 28,
    "start_time": "2022-12-05T14:22:52.979Z"
   },
   {
    "duration": 14,
    "start_time": "2022-12-05T14:22:53.008Z"
   },
   {
    "duration": 55,
    "start_time": "2022-12-05T14:27:20.824Z"
   },
   {
    "duration": 8,
    "start_time": "2022-12-05T14:36:40.190Z"
   },
   {
    "duration": 12,
    "start_time": "2022-12-05T14:38:56.754Z"
   },
   {
    "duration": 1146,
    "start_time": "2022-12-05T14:39:06.561Z"
   },
   {
    "duration": 85,
    "start_time": "2022-12-05T14:39:07.709Z"
   },
   {
    "duration": 19,
    "start_time": "2022-12-05T14:39:07.796Z"
   },
   {
    "duration": 17,
    "start_time": "2022-12-05T14:39:07.817Z"
   },
   {
    "duration": 16,
    "start_time": "2022-12-05T14:39:07.836Z"
   },
   {
    "duration": 26,
    "start_time": "2022-12-05T14:39:07.854Z"
   },
   {
    "duration": 24,
    "start_time": "2022-12-05T14:39:07.881Z"
   },
   {
    "duration": 26,
    "start_time": "2022-12-05T14:39:07.907Z"
   },
   {
    "duration": 10,
    "start_time": "2022-12-05T14:39:07.935Z"
   },
   {
    "duration": 24,
    "start_time": "2022-12-05T14:39:07.948Z"
   },
   {
    "duration": 25,
    "start_time": "2022-12-05T14:39:07.973Z"
   },
   {
    "duration": 24,
    "start_time": "2022-12-05T14:39:08.000Z"
   },
   {
    "duration": 33,
    "start_time": "2022-12-05T14:39:08.026Z"
   },
   {
    "duration": 196,
    "start_time": "2022-12-05T14:39:08.061Z"
   },
   {
    "duration": 118,
    "start_time": "2022-12-05T14:39:08.259Z"
   },
   {
    "duration": 11,
    "start_time": "2022-12-05T14:39:08.379Z"
   },
   {
    "duration": 21,
    "start_time": "2022-12-05T14:39:08.392Z"
   },
   {
    "duration": 16,
    "start_time": "2022-12-05T14:39:08.415Z"
   },
   {
    "duration": 29,
    "start_time": "2022-12-05T14:39:08.433Z"
   },
   {
    "duration": 302,
    "start_time": "2022-12-05T14:39:08.463Z"
   },
   {
    "duration": 222,
    "start_time": "2022-12-05T14:39:08.767Z"
   },
   {
    "duration": 285,
    "start_time": "2022-12-05T14:39:08.991Z"
   },
   {
    "duration": 211,
    "start_time": "2022-12-05T14:39:09.278Z"
   },
   {
    "duration": 317,
    "start_time": "2022-12-05T14:39:09.490Z"
   },
   {
    "duration": 279,
    "start_time": "2022-12-05T14:39:09.808Z"
   },
   {
    "duration": 166,
    "start_time": "2022-12-05T14:39:10.089Z"
   },
   {
    "duration": 5,
    "start_time": "2022-12-05T14:39:10.256Z"
   },
   {
    "duration": 166,
    "start_time": "2022-12-05T14:39:10.264Z"
   },
   {
    "duration": 216,
    "start_time": "2022-12-05T14:39:10.435Z"
   },
   {
    "duration": 4,
    "start_time": "2022-12-05T14:39:10.652Z"
   },
   {
    "duration": 227,
    "start_time": "2022-12-05T14:39:10.658Z"
   },
   {
    "duration": 132,
    "start_time": "2022-12-05T14:39:10.887Z"
   },
   {
    "duration": 17,
    "start_time": "2022-12-05T14:39:11.021Z"
   },
   {
    "duration": 197,
    "start_time": "2022-12-05T14:39:11.040Z"
   },
   {
    "duration": 12,
    "start_time": "2022-12-05T14:39:11.239Z"
   },
   {
    "duration": 19,
    "start_time": "2022-12-05T14:39:11.253Z"
   },
   {
    "duration": 18,
    "start_time": "2022-12-05T14:39:11.274Z"
   },
   {
    "duration": 42,
    "start_time": "2022-12-05T14:39:11.294Z"
   },
   {
    "duration": 14,
    "start_time": "2022-12-05T14:39:11.338Z"
   },
   {
    "duration": 4,
    "start_time": "2022-12-05T14:40:31.446Z"
   },
   {
    "duration": 4,
    "start_time": "2022-12-05T14:40:36.814Z"
   },
   {
    "duration": 40,
    "start_time": "2022-12-05T14:41:38.911Z"
   },
   {
    "duration": 12,
    "start_time": "2022-12-05T14:50:34.576Z"
   },
   {
    "duration": 1002,
    "start_time": "2022-12-05T14:50:45.285Z"
   },
   {
    "duration": 82,
    "start_time": "2022-12-05T14:50:46.290Z"
   },
   {
    "duration": 19,
    "start_time": "2022-12-05T14:50:46.373Z"
   },
   {
    "duration": 23,
    "start_time": "2022-12-05T14:50:46.394Z"
   },
   {
    "duration": 21,
    "start_time": "2022-12-05T14:50:46.419Z"
   },
   {
    "duration": 29,
    "start_time": "2022-12-05T14:50:46.442Z"
   },
   {
    "duration": 29,
    "start_time": "2022-12-05T14:50:46.473Z"
   },
   {
    "duration": 21,
    "start_time": "2022-12-05T14:50:46.503Z"
   },
   {
    "duration": 6,
    "start_time": "2022-12-05T14:50:46.525Z"
   },
   {
    "duration": 17,
    "start_time": "2022-12-05T14:50:46.533Z"
   },
   {
    "duration": 4,
    "start_time": "2022-12-05T14:50:46.552Z"
   },
   {
    "duration": 13,
    "start_time": "2022-12-05T14:50:46.558Z"
   },
   {
    "duration": 20,
    "start_time": "2022-12-05T14:50:46.573Z"
   },
   {
    "duration": 203,
    "start_time": "2022-12-05T14:50:46.594Z"
   },
   {
    "duration": 128,
    "start_time": "2022-12-05T14:50:46.799Z"
   },
   {
    "duration": 15,
    "start_time": "2022-12-05T14:50:46.929Z"
   },
   {
    "duration": 11,
    "start_time": "2022-12-05T14:50:46.946Z"
   },
   {
    "duration": 16,
    "start_time": "2022-12-05T14:50:46.958Z"
   },
   {
    "duration": 17,
    "start_time": "2022-12-05T14:50:46.975Z"
   },
   {
    "duration": 301,
    "start_time": "2022-12-05T14:50:46.994Z"
   },
   {
    "duration": 216,
    "start_time": "2022-12-05T14:50:47.296Z"
   },
   {
    "duration": 321,
    "start_time": "2022-12-05T14:50:47.514Z"
   },
   {
    "duration": 216,
    "start_time": "2022-12-05T14:50:47.837Z"
   },
   {
    "duration": 337,
    "start_time": "2022-12-05T14:50:48.054Z"
   },
   {
    "duration": 301,
    "start_time": "2022-12-05T14:50:48.392Z"
   },
   {
    "duration": 166,
    "start_time": "2022-12-05T14:50:48.695Z"
   },
   {
    "duration": 4,
    "start_time": "2022-12-05T14:50:48.863Z"
   },
   {
    "duration": 171,
    "start_time": "2022-12-05T14:50:48.870Z"
   },
   {
    "duration": 237,
    "start_time": "2022-12-05T14:50:49.043Z"
   },
   {
    "duration": 5,
    "start_time": "2022-12-05T14:50:49.281Z"
   },
   {
    "duration": 239,
    "start_time": "2022-12-05T14:50:49.288Z"
   },
   {
    "duration": 126,
    "start_time": "2022-12-05T14:50:49.535Z"
   },
   {
    "duration": 7,
    "start_time": "2022-12-05T14:50:49.662Z"
   },
   {
    "duration": 156,
    "start_time": "2022-12-05T14:50:49.670Z"
   },
   {
    "duration": 10,
    "start_time": "2022-12-05T14:50:49.834Z"
   },
   {
    "duration": 16,
    "start_time": "2022-12-05T14:50:49.846Z"
   },
   {
    "duration": 16,
    "start_time": "2022-12-05T14:50:49.864Z"
   },
   {
    "duration": 30,
    "start_time": "2022-12-05T14:50:49.881Z"
   },
   {
    "duration": 27,
    "start_time": "2022-12-05T14:50:49.913Z"
   },
   {
    "duration": 10,
    "start_time": "2022-12-05T15:05:26.129Z"
   },
   {
    "duration": 51,
    "start_time": "2022-12-05T15:06:06.642Z"
   },
   {
    "duration": 52,
    "start_time": "2022-12-05T15:07:18.770Z"
   },
   {
    "duration": 11,
    "start_time": "2022-12-05T15:07:24.511Z"
   },
   {
    "duration": 10,
    "start_time": "2022-12-05T15:08:29.690Z"
   },
   {
    "duration": 12,
    "start_time": "2022-12-05T15:08:49.190Z"
   },
   {
    "duration": 10,
    "start_time": "2022-12-05T15:08:58.434Z"
   },
   {
    "duration": 8,
    "start_time": "2022-12-05T15:09:26.531Z"
   },
   {
    "duration": 24,
    "start_time": "2022-12-05T15:09:27.142Z"
   },
   {
    "duration": 10,
    "start_time": "2022-12-05T15:14:03.654Z"
   },
   {
    "duration": 8,
    "start_time": "2022-12-05T15:14:25.462Z"
   },
   {
    "duration": 24,
    "start_time": "2022-12-05T15:14:27.270Z"
   },
   {
    "duration": 277,
    "start_time": "2022-12-05T15:24:57.885Z"
   },
   {
    "duration": 315,
    "start_time": "2022-12-05T15:25:03.203Z"
   },
   {
    "duration": 990,
    "start_time": "2022-12-06T06:48:08.623Z"
   },
   {
    "duration": 221,
    "start_time": "2022-12-06T06:48:09.616Z"
   },
   {
    "duration": 20,
    "start_time": "2022-12-06T06:48:09.838Z"
   },
   {
    "duration": 8,
    "start_time": "2022-12-06T06:48:09.860Z"
   },
   {
    "duration": 10,
    "start_time": "2022-12-06T06:48:09.869Z"
   },
   {
    "duration": 14,
    "start_time": "2022-12-06T06:48:09.881Z"
   },
   {
    "duration": 13,
    "start_time": "2022-12-06T06:48:09.896Z"
   },
   {
    "duration": 15,
    "start_time": "2022-12-06T06:48:09.911Z"
   },
   {
    "duration": 6,
    "start_time": "2022-12-06T06:48:09.928Z"
   },
   {
    "duration": 43,
    "start_time": "2022-12-06T06:48:09.936Z"
   },
   {
    "duration": 5,
    "start_time": "2022-12-06T06:48:09.980Z"
   },
   {
    "duration": 9,
    "start_time": "2022-12-06T06:48:09.987Z"
   },
   {
    "duration": 14,
    "start_time": "2022-12-06T06:48:09.998Z"
   },
   {
    "duration": 203,
    "start_time": "2022-12-06T06:48:10.013Z"
   },
   {
    "duration": 119,
    "start_time": "2022-12-06T06:48:10.217Z"
   },
   {
    "duration": 11,
    "start_time": "2022-12-06T06:48:10.337Z"
   },
   {
    "duration": 7,
    "start_time": "2022-12-06T06:48:10.350Z"
   },
   {
    "duration": 20,
    "start_time": "2022-12-06T06:48:10.359Z"
   },
   {
    "duration": 6,
    "start_time": "2022-12-06T06:48:10.380Z"
   },
   {
    "duration": 264,
    "start_time": "2022-12-06T06:48:10.388Z"
   },
   {
    "duration": 200,
    "start_time": "2022-12-06T06:48:10.653Z"
   },
   {
    "duration": 323,
    "start_time": "2022-12-06T06:48:10.855Z"
   },
   {
    "duration": 222,
    "start_time": "2022-12-06T06:48:11.179Z"
   },
   {
    "duration": 307,
    "start_time": "2022-12-06T06:48:11.402Z"
   },
   {
    "duration": 278,
    "start_time": "2022-12-06T06:48:11.711Z"
   },
   {
    "duration": 155,
    "start_time": "2022-12-06T06:48:11.991Z"
   },
   {
    "duration": 4,
    "start_time": "2022-12-06T06:48:12.148Z"
   },
   {
    "duration": 160,
    "start_time": "2022-12-06T06:48:12.156Z"
   },
   {
    "duration": 221,
    "start_time": "2022-12-06T06:48:12.318Z"
   },
   {
    "duration": 4,
    "start_time": "2022-12-06T06:48:12.540Z"
   },
   {
    "duration": 213,
    "start_time": "2022-12-06T06:48:12.546Z"
   },
   {
    "duration": 123,
    "start_time": "2022-12-06T06:48:12.761Z"
   },
   {
    "duration": 7,
    "start_time": "2022-12-06T06:48:12.885Z"
   },
   {
    "duration": 143,
    "start_time": "2022-12-06T06:48:12.894Z"
   },
   {
    "duration": 11,
    "start_time": "2022-12-06T06:48:13.039Z"
   },
   {
    "duration": 29,
    "start_time": "2022-12-06T06:48:13.053Z"
   },
   {
    "duration": 11,
    "start_time": "2022-12-06T06:48:13.085Z"
   },
   {
    "duration": 25,
    "start_time": "2022-12-06T06:48:13.098Z"
   },
   {
    "duration": 15,
    "start_time": "2022-12-06T06:48:13.124Z"
   }
  ],
  "kernelspec": {
   "display_name": "Python 3 (ipykernel)",
   "language": "python",
   "name": "python3"
  },
  "language_info": {
   "codemirror_mode": {
    "name": "ipython",
    "version": 3
   },
   "file_extension": ".py",
   "mimetype": "text/x-python",
   "name": "python",
   "nbconvert_exporter": "python",
   "pygments_lexer": "ipython3",
   "version": "3.9.12"
  },
  "toc": {
   "base_numbering": 1,
   "nav_menu": {},
   "number_sections": true,
   "sideBar": true,
   "skip_h1_title": true,
   "title_cell": "Table of Contents",
   "title_sidebar": "Contents",
   "toc_cell": false,
   "toc_position": {
    "height": "calc(100% - 180px)",
    "left": "10px",
    "top": "150px",
    "width": "289.438px"
   },
   "toc_section_display": true,
   "toc_window_display": true
  }
 },
 "nbformat": 4,
 "nbformat_minor": 2
}
